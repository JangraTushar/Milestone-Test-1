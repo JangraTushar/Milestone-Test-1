{
  "nbformat": 4,
  "nbformat_minor": 0,
  "metadata": {
    "colab": {
      "provenance": []
    },
    "kernelspec": {
      "name": "python3",
      "display_name": "Python 3"
    },
    "language_info": {
      "name": "python"
    }
  },
  "cells": [
    {
      "cell_type": "code",
      "execution_count": null,
      "metadata": {
        "id": "xpCCe23yhQW2"
      },
      "outputs": [],
      "source": [
        "import numpy as np\n",
        "import pandas as pd\n",
        "import matplotlib.pyplot as plt\n",
        "import seaborn as sns\n",
        "import warnings\n",
        "warnings.filterwarnings(\"ignore\")"
      ]
    },
    {
      "cell_type": "code",
      "source": [
        "name = [\"MOhan\", \"dash\",\"karam\",\"chandra\",\"gandhi\",\"bapu\"]"
      ],
      "metadata": {
        "id": "nMG5INqlhbwP"
      },
      "execution_count": null,
      "outputs": []
    },
    {
      "cell_type": "code",
      "source": [
        "name.insert(0,\"freedom_fightors\")"
      ],
      "metadata": {
        "id": "XenmqMCEhclj"
      },
      "execution_count": null,
      "outputs": []
    },
    {
      "cell_type": "code",
      "source": [
        "name"
      ],
      "metadata": {
        "colab": {
          "base_uri": "https://localhost:8080/"
        },
        "id": "R2pjozbshfk9",
        "outputId": "b7d8c300-b8d1-4db6-f4dd-cd1530f19de8"
      },
      "execution_count": null,
      "outputs": [
        {
          "output_type": "execute_result",
          "data": {
            "text/plain": [
              "['freedom_fightors', 'MOhan', 'dash', 'karam', 'chandra', 'gandhi', 'bapu']"
            ]
          },
          "metadata": {},
          "execution_count": 5
        }
      ]
    },
    {
      "cell_type": "code",
      "source": [
        "name = [\"freedomFighter\",\"bapuji\",\"MOhan\",\"dash\",\"karam\",\"chandra\",\"gandhi\"]"
      ],
      "metadata": {
        "id": "4PQU_QVfhiu-"
      },
      "execution_count": null,
      "outputs": []
    },
    {
      "cell_type": "code",
      "source": [
        "length1 = len((name[-len(name)+1:-1:2]))\n",
        "length1"
      ],
      "metadata": {
        "colab": {
          "base_uri": "https://localhost:8080/"
        },
        "id": "aeKC5YpLhnLh",
        "outputId": "ffd2a3b1-7d6e-4d64-9f13-119718ab223a"
      },
      "execution_count": null,
      "outputs": [
        {
          "output_type": "execute_result",
          "data": {
            "text/plain": [
              "3"
            ]
          },
          "metadata": {},
          "execution_count": 7
        }
      ]
    },
    {
      "cell_type": "markdown",
      "source": [
        "in this code first i calculate the len(name) then run the inner function that is name[-6:-1:2] which gives the value bapuji , dash , chandra and they are tuple comprehension and the calculate the length od this tupple"
      ],
      "metadata": {
        "id": "SeHp9PKLhyzT"
      }
    },
    {
      "cell_type": "code",
      "source": [
        "length2 = len((name[-len(name)+1:-1]))\n",
        "length2"
      ],
      "metadata": {
        "colab": {
          "base_uri": "https://localhost:8080/"
        },
        "id": "ma_nuN0Ahrfk",
        "outputId": "412afcfd-eaa9-4b60-bb84-e42e153f87af"
      },
      "execution_count": null,
      "outputs": [
        {
          "output_type": "execute_result",
          "data": {
            "text/plain": [
              "5"
            ]
          },
          "metadata": {},
          "execution_count": 8
        }
      ]
    },
    {
      "cell_type": "markdown",
      "source": [
        "same as the above but in this it take the names from bapuji to chandra bcz in this code the no of step count is by default 1"
      ],
      "metadata": {
        "id": "16an4JDqh6Al"
      }
    },
    {
      "cell_type": "code",
      "source": [
        "name.append(\"netaji\")"
      ],
      "metadata": {
        "id": "AgsbTV5ih3bv"
      },
      "execution_count": null,
      "outputs": []
    },
    {
      "cell_type": "code",
      "source": [
        "name.append(\"bose\")"
      ],
      "metadata": {
        "id": "mPNOHas9h-J9"
      },
      "execution_count": null,
      "outputs": []
    },
    {
      "cell_type": "code",
      "source": [
        "name"
      ],
      "metadata": {
        "colab": {
          "base_uri": "https://localhost:8080/"
        },
        "id": "kWe7-3t4iCvl",
        "outputId": "106016ee-39db-4e17-eb8a-b80f4db04de2"
      },
      "execution_count": null,
      "outputs": [
        {
          "output_type": "execute_result",
          "data": {
            "text/plain": [
              "['freedomFighter',\n",
              " 'bapuji',\n",
              " 'MOhan',\n",
              " 'dash',\n",
              " 'karam',\n",
              " 'chandra',\n",
              " 'gandhi',\n",
              " 'netaji',\n",
              " 'bose']"
            ]
          },
          "metadata": {},
          "execution_count": 11
        }
      ]
    },
    {
      "cell_type": "code",
      "source": [
        "name = [\"bapuji\",\"dash\",\"karam\",\"karam\",\"chandar\",\"gandhi\",\"mohan\"]\n",
        "temp = name[-1]\n",
        "name[-1]=name[0]\n",
        "name[0]=temp\n",
        "temp"
      ],
      "metadata": {
        "colab": {
          "base_uri": "https://localhost:8080/",
          "height": 35
        },
        "id": "TGR2z9JoiD5m",
        "outputId": "55fa3814-7a85-4d50-dcf3-e6c9a760cac6"
      },
      "execution_count": null,
      "outputs": [
        {
          "output_type": "execute_result",
          "data": {
            "text/plain": [
              "'mohan'"
            ],
            "application/vnd.google.colaboratory.intrinsic+json": {
              "type": "string"
            }
          },
          "metadata": {},
          "execution_count": 12
        }
      ]
    },
    {
      "cell_type": "markdown",
      "source": [
        "the value of temp is \"mohan\""
      ],
      "metadata": {
        "id": "pTznw4nfiQly"
      }
    },
    {
      "cell_type": "markdown",
      "source": [
        "Ques 1.4"
      ],
      "metadata": {
        "id": "edLXwF8viRla"
      }
    },
    {
      "cell_type": "code",
      "source": [
        "animal = [\"human\",\"cat\",\"mat\",\"cat\",\"rat\",\"human\",\"lion\"]"
      ],
      "metadata": {
        "id": "a64RkXydiMnJ"
      },
      "execution_count": null,
      "outputs": []
    },
    {
      "cell_type": "code",
      "source": [
        "print(animal.count(\"human\"))"
      ],
      "metadata": {
        "colab": {
          "base_uri": "https://localhost:8080/"
        },
        "id": "gYEQcWcOiWOp",
        "outputId": "49df05e8-09f7-4763-9d34-4ddea6c5e73b"
      },
      "execution_count": null,
      "outputs": [
        {
          "output_type": "stream",
          "name": "stdout",
          "text": [
            "2\n"
          ]
        }
      ]
    },
    {
      "cell_type": "code",
      "source": [
        "print(animal.index(\"rat\"))"
      ],
      "metadata": {
        "colab": {
          "base_uri": "https://localhost:8080/"
        },
        "id": "V0_xkNhEibrz",
        "outputId": "38915e97-40fe-4881-dcc1-d2828371c069"
      },
      "execution_count": null,
      "outputs": [
        {
          "output_type": "stream",
          "name": "stdout",
          "text": [
            "4\n"
          ]
        }
      ]
    },
    {
      "cell_type": "code",
      "source": [
        "print(len(animal))"
      ],
      "metadata": {
        "colab": {
          "base_uri": "https://localhost:8080/"
        },
        "id": "9C2A4qecic9A",
        "outputId": "4d6b34fd-5c6a-4231-e904-dc190f26725e"
      },
      "execution_count": null,
      "outputs": [
        {
          "output_type": "stream",
          "name": "stdout",
          "text": [
            "7\n"
          ]
        }
      ]
    },
    {
      "cell_type": "markdown",
      "source": [
        "Ques 1.5"
      ],
      "metadata": {
        "id": "W_3o_lxMivd0"
      }
    },
    {
      "cell_type": "code",
      "source": [
        "tuple1 = (10,20,\"apple\",3.4,\"a\",[\"master\",\"ji\"],(\"seeta\",\"geeta\",22),[{\"roll_no\":1},{\"name\":\"navneet\"}])"
      ],
      "metadata": {
        "id": "pXq3kMYYipXq"
      },
      "execution_count": null,
      "outputs": []
    },
    {
      "cell_type": "code",
      "source": [
        "print(len(tuple1))"
      ],
      "metadata": {
        "colab": {
          "base_uri": "https://localhost:8080/"
        },
        "id": "U_EWXbr9iw2I",
        "outputId": "ac24c9ff-6916-4a15-bdf8-b3ac7d2ee859"
      },
      "execution_count": null,
      "outputs": [
        {
          "output_type": "stream",
          "name": "stdout",
          "text": [
            "8\n"
          ]
        }
      ]
    },
    {
      "cell_type": "code",
      "source": [
        "print(tuple1[-1][-1][\"name\"])"
      ],
      "metadata": {
        "colab": {
          "base_uri": "https://localhost:8080/"
        },
        "id": "3tO5ieGgi0av",
        "outputId": "ad40e73e-8ff4-42ee-ef4d-4f215ccd67a9"
      },
      "execution_count": null,
      "outputs": [
        {
          "output_type": "stream",
          "name": "stdout",
          "text": [
            "navneet\n"
          ]
        }
      ]
    },
    {
      "cell_type": "code",
      "source": [
        "print(tuple1[-1][-2][\"roll_no\"])"
      ],
      "metadata": {
        "colab": {
          "base_uri": "https://localhost:8080/"
        },
        "id": "9Rakfel1i4Xi",
        "outputId": "a3f995f1-8906-4371-ee01-a9a1dff380d0"
      },
      "execution_count": null,
      "outputs": [
        {
          "output_type": "stream",
          "name": "stdout",
          "text": [
            "1\n"
          ]
        }
      ]
    },
    {
      "cell_type": "code",
      "source": [
        "print(tuple1[-3][1])"
      ],
      "metadata": {
        "colab": {
          "base_uri": "https://localhost:8080/"
        },
        "id": "_ix-EZCei7Ii",
        "outputId": "60fa90bd-1376-41db-9e4b-081c3b53f0e7"
      },
      "execution_count": null,
      "outputs": [
        {
          "output_type": "stream",
          "name": "stdout",
          "text": [
            "ji\n"
          ]
        }
      ]
    },
    {
      "cell_type": "code",
      "source": [
        "print(tuple1[-2][-1])"
      ],
      "metadata": {
        "colab": {
          "base_uri": "https://localhost:8080/"
        },
        "id": "Uo7zltKri-EZ",
        "outputId": "43b8ce42-172c-4c7d-d88d-e4745b8a02ad"
      },
      "execution_count": null,
      "outputs": [
        {
          "output_type": "stream",
          "name": "stdout",
          "text": [
            "22\n"
          ]
        }
      ]
    },
    {
      "cell_type": "markdown",
      "source": [
        "Ques 1.6"
      ],
      "metadata": {
        "id": "gu5FPmXIjBRk"
      }
    },
    {
      "cell_type": "code",
      "source": [
        "def show_message(color):\n",
        "    if color == \"red\":\n",
        "        print(\"stop\")\n",
        "    elif color == \"yellow\":\n",
        "        print(\"stay\")\n",
        "    else:\n",
        "        print(\"go\")"
      ],
      "metadata": {
        "id": "Kp1o20MrjDFE"
      },
      "execution_count": null,
      "outputs": []
    },
    {
      "cell_type": "code",
      "source": [
        "x = input(\"enter the colour\")\n",
        "show_message(x)"
      ],
      "metadata": {
        "colab": {
          "base_uri": "https://localhost:8080/"
        },
        "id": "-g_kxvjxjH5_",
        "outputId": "606762f8-f7cc-48a6-d60a-3cc5965e332b"
      },
      "execution_count": null,
      "outputs": [
        {
          "output_type": "stream",
          "name": "stdout",
          "text": [
            "enter the colourred\n",
            "stop\n"
          ]
        }
      ]
    },
    {
      "cell_type": "markdown",
      "source": [
        "Ques 1.7"
      ],
      "metadata": {
        "id": "KY5kbbjep2sK"
      }
    },
    {
      "cell_type": "code",
      "source": [
        "def calculate(a,b,operation):\n",
        "  if operation == \"+\":\n",
        "    return a+b\n",
        "  elif operation == \"-\":\n",
        "    return a-b\n",
        "  elif operation == \"*\":\n",
        "    return a*b\n",
        "  elif operation == \"/\":\n",
        "    return a/b\n",
        "  else:\n",
        "    return \"invalid operation\""
      ],
      "metadata": {
        "id": "U8YS1ts3p5ZU"
      },
      "execution_count": null,
      "outputs": []
    },
    {
      "cell_type": "code",
      "source": [
        "a = int(input(\"enter the first operand\"))\n",
        "b = int(input(\"enter the second operand\"))\n",
        "operation = input(\"enter the operation\")\n",
        "x = calculate(a,b,operation)\n",
        "print(x)"
      ],
      "metadata": {
        "colab": {
          "base_uri": "https://localhost:8080/"
        },
        "id": "7TSgMbQ3qF67",
        "outputId": "5e814052-7358-4259-b10f-dc9656b4e0d6"
      },
      "execution_count": null,
      "outputs": [
        {
          "output_type": "stream",
          "name": "stdout",
          "text": [
            "enter the first operand34\n",
            "enter the second operand56\n",
            "enter the operation+\n",
            "90\n"
          ]
        }
      ]
    },
    {
      "cell_type": "markdown",
      "source": [
        "Ques 1.8"
      ],
      "metadata": {
        "id": "2PZtdEhurLgL"
      }
    },
    {
      "cell_type": "code",
      "source": [
        "def find_greater(a,b,c):\n",
        "    if a>b & b>c:\n",
        "        return a\n",
        "    elif b>a & b>c:\n",
        "        return b\n",
        "    else :\n",
        "        return c"
      ],
      "metadata": {
        "id": "mumdveJTrFpA"
      },
      "execution_count": null,
      "outputs": []
    },
    {
      "cell_type": "code",
      "source": [
        "find_greater(45,70,90)"
      ],
      "metadata": {
        "colab": {
          "base_uri": "https://localhost:8080/"
        },
        "id": "YcBngLRZrJ-o",
        "outputId": "3a5e1d17-8331-4af1-c61d-71c9606d3435"
      },
      "execution_count": null,
      "outputs": [
        {
          "output_type": "execute_result",
          "data": {
            "text/plain": [
              "90"
            ]
          },
          "metadata": {},
          "execution_count": 28
        }
      ]
    },
    {
      "cell_type": "markdown",
      "source": [
        "Ques 1.9"
      ],
      "metadata": {
        "id": "t6GqCXmhrQ5J"
      }
    },
    {
      "cell_type": "code",
      "source": [
        "def find_factor(x):\n",
        "    i = 1\n",
        "    factor = []\n",
        "    while i < (x+1):\n",
        "        if x%i == 0:\n",
        "            factor.append(i)\n",
        "        i=i+1\n",
        "    return factor"
      ],
      "metadata": {
        "id": "nAgu9ms_rS3K"
      },
      "execution_count": null,
      "outputs": []
    },
    {
      "cell_type": "code",
      "source": [
        "number = int(input(\"enter the number\"))\n",
        "find_factor(number)"
      ],
      "metadata": {
        "id": "0IvbEK9BhFCm",
        "colab": {
          "base_uri": "https://localhost:8080/"
        },
        "outputId": "124236c5-0060-4655-d0bd-1abe6411a31f"
      },
      "execution_count": null,
      "outputs": [
        {
          "name": "stdout",
          "output_type": "stream",
          "text": [
            "enter the number15\n"
          ]
        },
        {
          "output_type": "execute_result",
          "data": {
            "text/plain": [
              "[1, 3, 5, 15]"
            ]
          },
          "metadata": {},
          "execution_count": 30
        }
      ]
    },
    {
      "cell_type": "markdown",
      "source": [
        "Ques 1.10"
      ],
      "metadata": {
        "id": "-_nhRTEojjCe"
      }
    },
    {
      "cell_type": "code",
      "source": [
        "total_sum = 0\n",
        "while True:\n",
        "    number = int(input(\"Enter a positive integer (or a negative number to stop): \"))\n",
        "    if number < 0:\n",
        "        break\n",
        "    total_sum += number\n",
        "print(f\"The sum of all positive integers entered is: {total_sum}\")\n"
      ],
      "metadata": {
        "colab": {
          "base_uri": "https://localhost:8080/"
        },
        "id": "QKUHt2_KjPev",
        "outputId": "40e5083c-84e9-43a8-c198-bc824f5ba708"
      },
      "execution_count": null,
      "outputs": [
        {
          "output_type": "stream",
          "name": "stdout",
          "text": [
            "Enter a positive integer (or a negative number to stop): 5\n",
            "Enter a positive integer (or a negative number to stop): 7\n",
            "Enter a positive integer (or a negative number to stop): 9\n",
            "Enter a positive integer (or a negative number to stop): -1\n",
            "The sum of all positive integers entered is: 21\n"
          ]
        }
      ]
    },
    {
      "cell_type": "markdown",
      "source": [
        "Ques 1.11"
      ],
      "metadata": {
        "id": "sizTd1H8k1iZ"
      }
    },
    {
      "cell_type": "code",
      "source": [
        "x = 100\n",
        "for i in range (2,x+1):\n",
        "  for n in range (2,i):\n",
        "    if i%n == 0:\n",
        "      break\n",
        "  else:\n",
        "    print(i)"
      ],
      "metadata": {
        "colab": {
          "base_uri": "https://localhost:8080/"
        },
        "id": "u9rsdvNqjPVc",
        "outputId": "71e27854-2abf-4ba8-b13a-b481dcf8ac4f"
      },
      "execution_count": null,
      "outputs": [
        {
          "output_type": "stream",
          "name": "stdout",
          "text": [
            "2\n",
            "3\n",
            "5\n",
            "7\n",
            "11\n",
            "13\n",
            "17\n",
            "19\n",
            "23\n",
            "29\n",
            "31\n",
            "37\n",
            "41\n",
            "43\n",
            "47\n",
            "53\n",
            "59\n",
            "61\n",
            "67\n",
            "71\n",
            "73\n",
            "79\n",
            "83\n",
            "89\n",
            "97\n"
          ]
        }
      ]
    },
    {
      "cell_type": "markdown",
      "source": [
        "Ques 1.12"
      ],
      "metadata": {
        "id": "k3NFntFUlyRm"
      }
    },
    {
      "cell_type": "code",
      "source": [
        "marks =[]\n",
        "for i in range (1,6):\n",
        "  mark = int(input(f\"enter the marks of {i} subject\"))\n",
        "  marks.append(mark)\n",
        "for i in range (1,6):\n",
        "  print(f\"the marks of {i} subject is {marks[i-1]}\")"
      ],
      "metadata": {
        "colab": {
          "base_uri": "https://localhost:8080/"
        },
        "id": "dpQAkNPllzmB",
        "outputId": "a9568e48-921b-422d-e42b-9a0411ac45eb"
      },
      "execution_count": null,
      "outputs": [
        {
          "output_type": "stream",
          "name": "stdout",
          "text": [
            "enter the marks of 1 subject80\n",
            "enter the marks of 2 subject78\n",
            "enter the marks of 3 subject75\n",
            "enter the marks of 4 subject89\n",
            "enter the marks of 5 subject77\n",
            "the marks of 1 subject is 80\n",
            "the marks of 2 subject is 78\n",
            "the marks of 3 subject is 75\n",
            "the marks of 4 subject is 89\n",
            "the marks of 5 subject is 77\n"
          ]
        }
      ]
    },
    {
      "cell_type": "code",
      "source": [
        "def percentage(marks):\n",
        "  total_marks = sum(marks)\n",
        "  percentage = (total_marks/500)*100\n",
        "  return percentage"
      ],
      "metadata": {
        "id": "LCnPgXjwnMMt"
      },
      "execution_count": null,
      "outputs": []
    },
    {
      "cell_type": "code",
      "source": [
        "percentage(marks)"
      ],
      "metadata": {
        "colab": {
          "base_uri": "https://localhost:8080/"
        },
        "id": "IM_1U59-nSUT",
        "outputId": "3fabdafa-a83e-4e1e-8fd8-bc627b2075c7"
      },
      "execution_count": null,
      "outputs": [
        {
          "output_type": "execute_result",
          "data": {
            "text/plain": [
              "79.80000000000001"
            ]
          },
          "metadata": {},
          "execution_count": 35
        }
      ]
    },
    {
      "cell_type": "code",
      "source": [
        "def grades(percentage):\n",
        "  if percentage >= 85:\n",
        "    return \"A\"\n",
        "  elif (percentage >= 75 & percentage <85):\n",
        "    return \"B\"\n",
        "  elif (percentage >= 50 & percentage <75):\n",
        "    return \"C\"\n",
        "  elif (percentage < 50 & percentage >30):\n",
        "    return \"D\"\n",
        "  else :\n",
        "    return \"reappear\""
      ],
      "metadata": {
        "id": "ZiwdBlRonX02"
      },
      "execution_count": null,
      "outputs": []
    },
    {
      "cell_type": "code",
      "source": [
        "grades(80)"
      ],
      "metadata": {
        "colab": {
          "base_uri": "https://localhost:8080/",
          "height": 35
        },
        "id": "n28PSrznokdH",
        "outputId": "091c44a0-01ff-4d5e-c6ac-f1f6530377e2"
      },
      "execution_count": null,
      "outputs": [
        {
          "output_type": "execute_result",
          "data": {
            "text/plain": [
              "'B'"
            ],
            "application/vnd.google.colaboratory.intrinsic+json": {
              "type": "string"
            }
          },
          "metadata": {},
          "execution_count": 37
        }
      ]
    },
    {
      "cell_type": "markdown",
      "source": [
        "Ques 1.13"
      ],
      "metadata": {
        "id": "kmRZUkSlraXU"
      }
    },
    {
      "cell_type": "code",
      "source": [
        "def colour(wavelength):\n",
        "  if (wavelength >= 400.0 and wavelength < 440.0):\n",
        "    return \"Violet\"\n",
        "  elif (wavelength >= 440.0 and wavelength < 460.0):\n",
        "    return \"Indigo\"\n",
        "  elif (wavelength >= 460.0 and wavelength < 500.0):\n",
        "    return \"Blue\"\n",
        "  elif (wavelength >= 500.0 and wavelength < 570.0):\n",
        "    return \"Green\"\n",
        "  elif (wavelength >= 570.0 and wavelength < 590.0):\n",
        "    return \"Yellow\"\n",
        "  elif (wavelength >=590.0 and wavelength <620.0):\n",
        "    return \"Orange\"\n",
        "  elif (wavelength >=620.0 and wavelength <720.0):\n",
        "    return \"Red\""
      ],
      "metadata": {
        "id": "WH9kyj_WpFmy"
      },
      "execution_count": null,
      "outputs": []
    },
    {
      "cell_type": "code",
      "source": [
        "wavelength = float(input(\"enter the wavelength\"))\n",
        "colour(wavelength)"
      ],
      "metadata": {
        "colab": {
          "base_uri": "https://localhost:8080/",
          "height": 53
        },
        "id": "u6l1VNffqutZ",
        "outputId": "4118f478-25a3-4e09-8a8c-062c3e0a9b02"
      },
      "execution_count": null,
      "outputs": [
        {
          "name": "stdout",
          "output_type": "stream",
          "text": [
            "enter the wavelength560.6\n"
          ]
        },
        {
          "output_type": "execute_result",
          "data": {
            "text/plain": [
              "'Green'"
            ],
            "application/vnd.google.colaboratory.intrinsic+json": {
              "type": "string"
            }
          },
          "metadata": {},
          "execution_count": 39
        }
      ]
    },
    {
      "cell_type": "markdown",
      "source": [
        "Ques 1.14"
      ],
      "metadata": {
        "id": "zEPIuG4dt7zD"
      }
    },
    {
      "cell_type": "code",
      "source": [
        "mass_of_earth = 5.972*10**24\n",
        "mass_of_moon = 7.348*10**22\n",
        "mass_of_sun = 1.989*10**3\n",
        "distance_earth_sun = 1.496*10**9\n",
        "distance_moon_earth = 3.844*10**6\n",
        "gravitational_constant = 6.674*10**-11\n"
      ],
      "metadata": {
        "id": "7pCSqeQIt-TQ"
      },
      "execution_count": null,
      "outputs": []
    },
    {
      "cell_type": "code",
      "source": [
        "def force_of_gravity_earth_sun(mass_of_earth,mass_of_sun,distance_earth_sun,gravitational_constant):\n",
        "  force = gravitational_constant*(mass_of_earth*mass_of_sun)/distance_earth_sun**2\n",
        "  return force"
      ],
      "metadata": {
        "id": "-zLIb8jXyClP"
      },
      "execution_count": null,
      "outputs": []
    },
    {
      "cell_type": "code",
      "source": [
        "force_earth_sun = force_of_gravity_earth_sun(mass_of_earth,mass_of_sun,distance_earth_sun,gravitational_constant)"
      ],
      "metadata": {
        "id": "SQGPCkRxya-m"
      },
      "execution_count": null,
      "outputs": []
    },
    {
      "cell_type": "code",
      "source": [
        "force_earth_sun"
      ],
      "metadata": {
        "colab": {
          "base_uri": "https://localhost:8080/"
        },
        "id": "dD0dEFt5zWiO",
        "outputId": "e6f0e998-cd87-423d-fdce-ce7158156cea"
      },
      "execution_count": null,
      "outputs": [
        {
          "output_type": "execute_result",
          "data": {
            "text/plain": [
              "0.3542236855858046"
            ]
          },
          "metadata": {},
          "execution_count": 43
        }
      ]
    },
    {
      "cell_type": "code",
      "source": [
        "def force_of_gravity_earth_moon(mass_of_earth,mass_of_moon,distance_moon_earth,gravitational_constant):\n",
        "  force = gravitational_constant*(mass_of_earth*mass_of_moon)/distance_moon_earth**2\n",
        "  return force"
      ],
      "metadata": {
        "id": "ErJ89qF-ylgy"
      },
      "execution_count": null,
      "outputs": []
    },
    {
      "cell_type": "code",
      "source": [
        "force_earth_moon = force_of_gravity_earth_moon(mass_of_earth,mass_of_moon,distance_moon_earth,gravitational_constant)"
      ],
      "metadata": {
        "id": "Dzd6sKHRy6We"
      },
      "execution_count": null,
      "outputs": []
    },
    {
      "cell_type": "code",
      "source": [
        "force_earth_moon"
      ],
      "metadata": {
        "colab": {
          "base_uri": "https://localhost:8080/"
        },
        "id": "0Yin70JKzaDX",
        "outputId": "ff32cf93-57c7-49dc-a732-c2d50249f774"
      },
      "execution_count": null,
      "outputs": [
        {
          "output_type": "execute_result",
          "data": {
            "text/plain": [
              "1.9820216361078957e+24"
            ]
          },
          "metadata": {},
          "execution_count": 46
        }
      ]
    },
    {
      "cell_type": "code",
      "source": [
        "def compare_forces(force_earth_sun,force_earth_moon):\n",
        "  if force_earth_sun > force_earth_moon:\n",
        "    return \"Earth is stronger\"\n",
        "  elif force_earth_sun < force_earth_moon:\n",
        "    return \"Moon is stronger\""
      ],
      "metadata": {
        "id": "CpZkrSJ60P4T"
      },
      "execution_count": null,
      "outputs": []
    },
    {
      "cell_type": "code",
      "source": [
        "compare_forces(force_earth_sun,force_earth_moon)"
      ],
      "metadata": {
        "colab": {
          "base_uri": "https://localhost:8080/",
          "height": 35
        },
        "id": "oRFqPt4s0ZPo",
        "outputId": "d0336227-5894-428e-f509-87759585e870"
      },
      "execution_count": null,
      "outputs": [
        {
          "output_type": "execute_result",
          "data": {
            "text/plain": [
              "'Moon is stronger'"
            ],
            "application/vnd.google.colaboratory.intrinsic+json": {
              "type": "string"
            }
          },
          "metadata": {},
          "execution_count": 48
        }
      ]
    },
    {
      "cell_type": "markdown",
      "source": [
        "the eath and moon attract each other with same gravitational force"
      ],
      "metadata": {
        "id": "U0v7Q3ok1Ppt"
      }
    },
    {
      "cell_type": "markdown",
      "source": [
        "Ques 2"
      ],
      "metadata": {
        "id": "5AIjh8yk1VtB"
      }
    },
    {
      "cell_type": "code",
      "source": [
        "class student:\n",
        "  def __init__(self,name,roll_no,age):\n",
        "    self.__name = name\n",
        "    self.__roll_no = roll_no\n",
        "    self.__age = age\n",
        "  def get_name(self):\n",
        "      return self.__name\n",
        "  def get_roll_no(self):\n",
        "      return self.__roll_no\n",
        "  def get_age(self):\n",
        "      return self.__age\n",
        "  def set_name(self,name):\n",
        "      self.__name = name\n",
        "  def set_roll_no(self,roll_no):\n",
        "      self.__roll_no = roll_no\n",
        "  def set_age(self,age):\n",
        "      self.__age = age\n",
        "  def get_details(self):\n",
        "      print(f\"the name of the student is {self.__name}\")\n",
        "      print(f\"the roll no of the student is {self.__roll_no}\")\n",
        "      print(f\"the age of the student is {self.__age}\")\n",
        "  def update_details(self,name=None,roll_no = None, age = None):\n",
        "      if name is not None:\n",
        "        self.set_name( name )\n",
        "      if roll_no is not None:\n",
        "        self.set_roll_no(roll_no )\n",
        "      if age is not None:\n",
        "        self.set_age(age)"
      ],
      "metadata": {
        "id": "tYSiZ62N1Wxk"
      },
      "execution_count": null,
      "outputs": []
    },
    {
      "cell_type": "code",
      "source": [
        "student1 = student(\"navneet\",12,20)"
      ],
      "metadata": {
        "id": "6Q5vgoOf7rD-"
      },
      "execution_count": null,
      "outputs": []
    },
    {
      "cell_type": "code",
      "source": [
        "student1.get_details()"
      ],
      "metadata": {
        "colab": {
          "base_uri": "https://localhost:8080/"
        },
        "id": "ZnO_xWH473Fd",
        "outputId": "ee80e06d-aeea-4f7a-ebf4-92827c645a9c"
      },
      "execution_count": null,
      "outputs": [
        {
          "output_type": "stream",
          "name": "stdout",
          "text": [
            "the name of the student is navneet\n",
            "the roll no of the student is 12\n",
            "the age of the student is 20\n"
          ]
        }
      ]
    },
    {
      "cell_type": "code",
      "source": [
        "student1.update_details(name = \"Tushar jangra\",age = 20)"
      ],
      "metadata": {
        "id": "mDZOjvMj8qAP"
      },
      "execution_count": null,
      "outputs": []
    },
    {
      "cell_type": "code",
      "source": [
        "student1.get_details()"
      ],
      "metadata": {
        "colab": {
          "base_uri": "https://localhost:8080/"
        },
        "id": "OvzLL3CD9HVL",
        "outputId": "d1f8c0b4-19ca-4aa8-e8cc-bee58924369c"
      },
      "execution_count": null,
      "outputs": [
        {
          "output_type": "stream",
          "name": "stdout",
          "text": [
            "the name of the student is Tushar jangra\n",
            "the roll no of the student is 12\n",
            "the age of the student is 20\n"
          ]
        }
      ]
    },
    {
      "cell_type": "markdown",
      "source": [
        "Ques 3"
      ],
      "metadata": {
        "id": "r2bhJs0xRK16"
      }
    },
    {
      "cell_type": "code",
      "source": [
        "class LibraryBooks:\n",
        "  Books = {}\n",
        "  def __init__(self,books_name,author):\n",
        "    self.__book_name = books_name\n",
        "    self.__author = author\n",
        "    self.__available_status = True\n",
        "  def display_information(self):\n",
        "    status = \"available\" if self.__available_status is True else \"not available\"\n",
        "    print(f\"the name of the book is {self.__book_name}\")\n",
        "    print(f\"the author of the book is {self.__author}\")\n",
        "    print(f\"the status of the book is {status}\")\n",
        "  def borrow_book(self):\n",
        "    if self.__available_status is True:\n",
        "      self.__available_status = False\n",
        "      print(f\"you have successfully borrowed {self.__book_name} by {self.__author}\")\n",
        "    else :\n",
        "      print(f\"sorry {self.__book_name} by {self.__author} is not available\")\n",
        "  def return_book(self):\n",
        "    if self.__available_status is False:\n",
        "      self.__available_status = True\n",
        "      print(f\"you have successfully returned {self.__book_name} by {self.__author}\")\n",
        "    else :\n",
        "      print(f\"sorry {self.__book_name} by {self.__author} is already available\")"
      ],
      "metadata": {
        "id": "uUpangazKDfM"
      },
      "execution_count": null,
      "outputs": []
    },
    {
      "cell_type": "code",
      "source": [
        "book1 = LibraryBooks(\"1984\",\"George Orwell\")\n",
        "book1.display_information()"
      ],
      "metadata": {
        "colab": {
          "base_uri": "https://localhost:8080/"
        },
        "id": "UIAZdvzJQuZF",
        "outputId": "c1afe7c7-0c39-4801-953e-2dad09541380"
      },
      "execution_count": null,
      "outputs": [
        {
          "output_type": "stream",
          "name": "stdout",
          "text": [
            "the name of the book is 1984\n",
            "the author of the book is George Orwell\n",
            "the status of the book is available\n"
          ]
        }
      ]
    },
    {
      "cell_type": "code",
      "source": [
        "book1.borrow_book()"
      ],
      "metadata": {
        "colab": {
          "base_uri": "https://localhost:8080/"
        },
        "id": "OF-WH9QgQ0oh",
        "outputId": "0d9b1a19-ff0e-4144-cda8-003304d88a88"
      },
      "execution_count": null,
      "outputs": [
        {
          "output_type": "stream",
          "name": "stdout",
          "text": [
            "you have successfully borrowed 1984 by George Orwell\n"
          ]
        }
      ]
    },
    {
      "cell_type": "code",
      "source": [
        "book1.borrow_book()"
      ],
      "metadata": {
        "colab": {
          "base_uri": "https://localhost:8080/"
        },
        "id": "D5NHtXypQ4C4",
        "outputId": "ab475ba0-d88f-4432-eb45-dd4aaa9172b8"
      },
      "execution_count": null,
      "outputs": [
        {
          "output_type": "stream",
          "name": "stdout",
          "text": [
            "sorry 1984 by George Orwell is not available\n"
          ]
        }
      ]
    },
    {
      "cell_type": "code",
      "source": [
        "book1.return_book()"
      ],
      "metadata": {
        "colab": {
          "base_uri": "https://localhost:8080/"
        },
        "id": "3gQLnfitQ7s_",
        "outputId": "eeb264a6-7593-4311-bbc9-754d97c16e5e"
      },
      "execution_count": null,
      "outputs": [
        {
          "output_type": "stream",
          "name": "stdout",
          "text": [
            "you have successfully returned 1984 by George Orwell\n"
          ]
        }
      ]
    },
    {
      "cell_type": "code",
      "source": [
        "book1.borrow_book()"
      ],
      "metadata": {
        "colab": {
          "base_uri": "https://localhost:8080/"
        },
        "id": "UBPbSmViRDHi",
        "outputId": "d4f89277-2298-480c-f62b-3452bb7896bc"
      },
      "execution_count": null,
      "outputs": [
        {
          "output_type": "stream",
          "name": "stdout",
          "text": [
            "you have successfully borrowed 1984 by George Orwell\n"
          ]
        }
      ]
    },
    {
      "cell_type": "markdown",
      "source": [
        "Ques 4"
      ],
      "metadata": {
        "id": "8r4NtP96RNsK"
      }
    },
    {
      "cell_type": "code",
      "source": [
        "class acount:\n",
        "  def __init__(self,acount_number,balance):\n",
        "    self._acount_number = acount_number\n",
        "    self._balance = balance\n",
        "  def get_balance(self):\n",
        "    return self._balance\n",
        "  def deposit(self,amount):\n",
        "    self._balance += amount\n",
        "    print(f\"deposite sucessfull with amount {amount} your current balance is {self._balance}\")\n",
        "  def withdraw(self,amount):\n",
        "    if amount <= self._balance:\n",
        "      self._balance -= amount\n",
        "      print(f\"withdrawl sucessfull with amount {amount} your current balance is {self._balance}\")\n",
        "    else:\n",
        "      print(\"insufficient balance\")"
      ],
      "metadata": {
        "id": "uiuaJ_ls6_Oa"
      },
      "execution_count": null,
      "outputs": []
    },
    {
      "cell_type": "code",
      "source": [
        "class saving_account(acount):\n",
        "  def __init__(self,acount_number,balance):\n",
        "    print(\"this is a saving account\")\n",
        "    super().__init__(acount_number,balance)\n",
        "class checking_account(acount):\n",
        "  def __init__(self,acount_number,balance):\n",
        "    print(\"this is a checking account\")\n",
        "    super().__init__(acount_number,balance)\n"
      ],
      "metadata": {
        "id": "lHcNwqFC7VRE"
      },
      "execution_count": null,
      "outputs": []
    },
    {
      "cell_type": "code",
      "source": [
        "acc1 = saving_account(\"AB12345HR12\",10000)"
      ],
      "metadata": {
        "colab": {
          "base_uri": "https://localhost:8080/"
        },
        "id": "Rd_fDJ5e7ydp",
        "outputId": "cd5444ca-53ac-4a1c-c31e-c7e4c05bb117"
      },
      "execution_count": null,
      "outputs": [
        {
          "output_type": "stream",
          "name": "stdout",
          "text": [
            "this is a saving account\n"
          ]
        }
      ]
    },
    {
      "cell_type": "code",
      "source": [
        "acc1.get_balance()"
      ],
      "metadata": {
        "colab": {
          "base_uri": "https://localhost:8080/"
        },
        "id": "lTr1ALzO77Tn",
        "outputId": "09d69641-6f8f-4453-9a0e-271e13bbc907"
      },
      "execution_count": null,
      "outputs": [
        {
          "output_type": "execute_result",
          "data": {
            "text/plain": [
              "10000"
            ]
          },
          "metadata": {},
          "execution_count": 63
        }
      ]
    },
    {
      "cell_type": "code",
      "source": [
        "acc1.deposit(5000)"
      ],
      "metadata": {
        "colab": {
          "base_uri": "https://localhost:8080/"
        },
        "id": "c5KINh_97-dM",
        "outputId": "d9bd5663-f619-4b8f-fc93-14a4df375c70"
      },
      "execution_count": null,
      "outputs": [
        {
          "output_type": "stream",
          "name": "stdout",
          "text": [
            "deposite sucessfull with amount 5000 your current balance is 15000\n"
          ]
        }
      ]
    },
    {
      "cell_type": "code",
      "source": [
        "acc1.withdraw(2000)"
      ],
      "metadata": {
        "colab": {
          "base_uri": "https://localhost:8080/"
        },
        "id": "JUeoJQB08BN6",
        "outputId": "c8e523dc-aa0f-44bf-e042-a3223cfff3ca"
      },
      "execution_count": null,
      "outputs": [
        {
          "output_type": "stream",
          "name": "stdout",
          "text": [
            "withdrawl sucessfull with amount 2000 your current balance is 13000\n"
          ]
        }
      ]
    },
    {
      "cell_type": "code",
      "source": [
        "acc2 = checking_account(\"AB12345HR12\",10000)"
      ],
      "metadata": {
        "colab": {
          "base_uri": "https://localhost:8080/"
        },
        "id": "_TirG9H98QPF",
        "outputId": "52fa226f-20be-41b5-fb9c-16432ebab72f"
      },
      "execution_count": null,
      "outputs": [
        {
          "output_type": "stream",
          "name": "stdout",
          "text": [
            "this is a checking account\n"
          ]
        }
      ]
    },
    {
      "cell_type": "code",
      "source": [
        "acc2.get_balance()"
      ],
      "metadata": {
        "colab": {
          "base_uri": "https://localhost:8080/"
        },
        "id": "PThkn1hf8UOc",
        "outputId": "6e3b60e5-81a6-419d-bb13-73442a336b40"
      },
      "execution_count": null,
      "outputs": [
        {
          "output_type": "execute_result",
          "data": {
            "text/plain": [
              "10000"
            ]
          },
          "metadata": {},
          "execution_count": 67
        }
      ]
    },
    {
      "cell_type": "code",
      "source": [
        "acc2.deposit(5000)"
      ],
      "metadata": {
        "colab": {
          "base_uri": "https://localhost:8080/"
        },
        "id": "n0jtinEp8Wv9",
        "outputId": "cfbf55da-a16e-4389-a74c-7ed4cc459665"
      },
      "execution_count": null,
      "outputs": [
        {
          "output_type": "stream",
          "name": "stdout",
          "text": [
            "deposite sucessfull with amount 5000 your current balance is 15000\n"
          ]
        }
      ]
    },
    {
      "cell_type": "code",
      "source": [
        "acc2.withdraw(8000)"
      ],
      "metadata": {
        "colab": {
          "base_uri": "https://localhost:8080/"
        },
        "id": "jaGOe_3T8Z2Z",
        "outputId": "71f4ef28-d8c9-451e-d40c-f8a62e922c35"
      },
      "execution_count": null,
      "outputs": [
        {
          "output_type": "stream",
          "name": "stdout",
          "text": [
            "withdrawl sucessfull with amount 8000 your current balance is 7000\n"
          ]
        }
      ]
    },
    {
      "cell_type": "markdown",
      "source": [
        "Ques 5"
      ],
      "metadata": {
        "id": "S_C1W9368JAF"
      }
    },
    {
      "cell_type": "code",
      "source": [
        "class animal:\n",
        "  def make_sound(self,sound):\n",
        "    print(\"animal sound\")\n",
        "class dog(animal):\n",
        "  def make_sound(self):\n",
        "    print(\"dog barks\")\n",
        "class cat(animal):\n",
        "  def make_sound(self):\n",
        "    print(\"cat meows\")"
      ],
      "metadata": {
        "id": "94Fu6xLd8LIG"
      },
      "execution_count": null,
      "outputs": []
    },
    {
      "cell_type": "code",
      "source": [
        "animal1 = dog()\n",
        "animal1.make_sound()\n"
      ],
      "metadata": {
        "colab": {
          "base_uri": "https://localhost:8080/"
        },
        "id": "nrixtPBY9ntv",
        "outputId": "2de13276-eea4-4f3c-d252-3161fa5163dd"
      },
      "execution_count": null,
      "outputs": [
        {
          "output_type": "stream",
          "name": "stdout",
          "text": [
            "dog barks\n"
          ]
        }
      ]
    },
    {
      "cell_type": "markdown",
      "source": [
        "Ques 6"
      ],
      "metadata": {
        "id": "ygziZmiZ-4I8"
      }
    },
    {
      "cell_type": "code",
      "source": [
        "class menuitem:\n",
        "  def __init__(self,name,description,price,category,unique_identifier):\n",
        "    self.name = name\n",
        "    self.description = description\n",
        "    self.price = price\n",
        "    self.category = category\n",
        "    self._unique_identifier = unique_identifier\n",
        "    self.menu_card = {}\n",
        "    self.unique_identity = {}\n",
        "    self.menu_card[self.name] = [self.description,self.price,self.category]\n",
        "    self.unique_identity[self.name] = self._unique_identifier\n",
        "  def add_item(self,name,description,price,category,unique_identifier):\n",
        "    self.menu_card[name] = [name,description,price,category]\n",
        "    self.unique_identity[self.name] = self._unique_identifier\n",
        "  def remove_item(self,name):\n",
        "    self.menu_card.pop[name]\n",
        "  def get_menu_card(self):\n",
        "    return self.menu_card"
      ],
      "metadata": {
        "id": "BG7S51kTFb7S"
      },
      "execution_count": null,
      "outputs": []
    },
    {
      "cell_type": "code",
      "source": [
        "class fooditem(menuitem):\n",
        "  def __init__(self,name,description,price,category,unique_identifier):\n",
        "    self.order = []\n",
        "    print(\"welcome to my restro here you get only food items not brevages\")\n",
        "    super().__init__(name,description,price,category,unique_identifier)\n",
        "  def make_order(self):\n",
        "    while True:\n",
        "      ordre_item = input(\"enter the name of item you order else say NO to stop the order\")\n",
        "      if ordre_item == \"NO\":\n",
        "        break\n",
        "      else:\n",
        "        self.order.append(ordre_item)\n",
        "    return self.order\n",
        "  def get_order_details(self):\n",
        "      return self.order"
      ],
      "metadata": {
        "id": "LM49AcK3GHQh"
      },
      "execution_count": null,
      "outputs": []
    },
    {
      "cell_type": "code",
      "source": [
        "class brevagesitem(menuitem):\n",
        "  def __init__(self,name,description,price,category,unique_identifier):\n",
        "    self.order = []\n",
        "    print(\"welcome to my restro here you get only brevages\")\n",
        "    super().__init__(name,description,price,category,unique_identifier)\n",
        "  def make_order(self):\n",
        "    while True:\n",
        "      ordre_item = input(\"enter the name of item you order else say NO to stop the order\")\n",
        "      if ordre_item == \"NO\":\n",
        "        break\n",
        "      else:\n",
        "        self.order.append(ordre_item)\n",
        "    return self.order\n",
        "  def get_order_details(self):\n",
        "      return self.order"
      ],
      "metadata": {
        "id": "lWDHl6L-K8u2"
      },
      "execution_count": null,
      "outputs": []
    },
    {
      "cell_type": "code",
      "source": [
        "restro1 = fooditem(\"Burger\",\"it contains a potato fries slice and breed\",\"50\",\"fast food\",\"abc001\")"
      ],
      "metadata": {
        "colab": {
          "base_uri": "https://localhost:8080/"
        },
        "id": "GF-chC1CIHeY",
        "outputId": "bd74598f-dde0-451f-dd10-c5e7da18e028"
      },
      "execution_count": null,
      "outputs": [
        {
          "output_type": "stream",
          "name": "stdout",
          "text": [
            "welcome to my restro here you get only food items not brevages\n"
          ]
        }
      ]
    },
    {
      "cell_type": "code",
      "source": [
        "restro1.add_item(\"pizza\",\"it contains breed base cover with layer of chess and veggies and origanos and lots of more spices\",\"180\",\"fast food\",\"abc002\")"
      ],
      "metadata": {
        "id": "NfxtYB5pIh9C"
      },
      "execution_count": null,
      "outputs": []
    },
    {
      "cell_type": "code",
      "source": [
        "restro1.add_item(\"chowmeen\",\"noodles category\",\"100\",\"fast food\",\"abc003\")"
      ],
      "metadata": {
        "id": "awPLer6lJBGl"
      },
      "execution_count": null,
      "outputs": []
    },
    {
      "cell_type": "code",
      "source": [
        "restro1.add_item(\"momos\",\"maida k bnte h :)\",\"100\",\"fast food\",\"abc004\")"
      ],
      "metadata": {
        "id": "bN1bQR3XJNAb"
      },
      "execution_count": null,
      "outputs": []
    },
    {
      "cell_type": "code",
      "source": [
        "restro1.get_menu_card()"
      ],
      "metadata": {
        "colab": {
          "base_uri": "https://localhost:8080/"
        },
        "id": "1nrMPwv4JfND",
        "outputId": "d9f3d96b-2abb-409e-c4f2-27919780f830"
      },
      "execution_count": null,
      "outputs": [
        {
          "output_type": "execute_result",
          "data": {
            "text/plain": [
              "{'Burger': ['it contains a potato fries slice and breed', '50', 'fast food'],\n",
              " 'pizza': ['pizza',\n",
              "  'it contains breed base cover with layer of chess and veggies and origanos and lots of more spices',\n",
              "  '180',\n",
              "  'fast food'],\n",
              " 'chowmeen': ['chowmeen', 'noodles category', '100', 'fast food'],\n",
              " 'momos': ['momos', 'maida k bnte h :)', '100', 'fast food']}"
            ]
          },
          "metadata": {},
          "execution_count": 79
        }
      ]
    },
    {
      "cell_type": "code",
      "source": [
        "restro1.make_order()"
      ],
      "metadata": {
        "colab": {
          "base_uri": "https://localhost:8080/"
        },
        "id": "xa-OomgIKAnW",
        "outputId": "359459c5-8e3b-44da-a327-90d06a4ec2ac"
      },
      "execution_count": null,
      "outputs": [
        {
          "name": "stdout",
          "output_type": "stream",
          "text": [
            "enter the name of item you order else say NO to stop the orderpizza\n",
            "enter the name of item you order else say NO to stop the orderburger\n",
            "enter the name of item you order else say NO to stop the orderNO\n"
          ]
        },
        {
          "output_type": "execute_result",
          "data": {
            "text/plain": [
              "['pizza', 'burger']"
            ]
          },
          "metadata": {},
          "execution_count": 80
        }
      ]
    },
    {
      "cell_type": "code",
      "source": [
        "restro1.get_order_details()"
      ],
      "metadata": {
        "colab": {
          "base_uri": "https://localhost:8080/"
        },
        "id": "rGQgUbNjKcNH",
        "outputId": "d5969de0-f527-43e4-c3a7-f0c006f9bdbb"
      },
      "execution_count": null,
      "outputs": [
        {
          "output_type": "execute_result",
          "data": {
            "text/plain": [
              "['pizza', 'burger']"
            ]
          },
          "metadata": {},
          "execution_count": 81
        }
      ]
    },
    {
      "cell_type": "code",
      "source": [
        "restro2 = brevagesitem(\"coffe\",\"hot coffee containing coco powder, coffee and suger and hot milk\",50,\"brevage\",\"abc001\")"
      ],
      "metadata": {
        "colab": {
          "base_uri": "https://localhost:8080/"
        },
        "id": "rmvl8stqLKeQ",
        "outputId": "87b43c1a-c325-4b22-c69c-96ccd65a4a95"
      },
      "execution_count": null,
      "outputs": [
        {
          "output_type": "stream",
          "name": "stdout",
          "text": [
            "welcome to my restro here you get only brevages\n"
          ]
        }
      ]
    },
    {
      "cell_type": "code",
      "source": [
        "restro2.add_item(\"cold coffee\",\"coffee with ice cubes ,cold milk and mixed with chocklate\",\"80\",\"brevage\",\"abc002\")"
      ],
      "metadata": {
        "id": "r3RxwkyBLfvn"
      },
      "execution_count": null,
      "outputs": []
    },
    {
      "cell_type": "code",
      "source": [
        "restro2.add_item(\"capachino\",\"category of hot coffee\",120,\"brevage\",\"abc003\")"
      ],
      "metadata": {
        "id": "SwtdJGf6Lt38"
      },
      "execution_count": null,
      "outputs": []
    },
    {
      "cell_type": "code",
      "source": [
        "restro2.get_menu_card()"
      ],
      "metadata": {
        "colab": {
          "base_uri": "https://localhost:8080/"
        },
        "id": "GFl084yuL2bK",
        "outputId": "d431a051-a538-4aaa-8bc3-8039fb6936c8"
      },
      "execution_count": null,
      "outputs": [
        {
          "output_type": "execute_result",
          "data": {
            "text/plain": [
              "{'coffe': ['hot coffee containing coco powder, coffee and suger and hot milk',\n",
              "  50,\n",
              "  'brevage'],\n",
              " 'cold coffee': ['cold coffee',\n",
              "  'coffee with ice cubes ,cold milk and mixed with chocklate',\n",
              "  '80',\n",
              "  'brevage'],\n",
              " 'capachino': ['capachino', 'category of hot coffee', 120, 'brevage']}"
            ]
          },
          "metadata": {},
          "execution_count": 85
        }
      ]
    },
    {
      "cell_type": "code",
      "source": [
        "restro2.make_order()"
      ],
      "metadata": {
        "colab": {
          "base_uri": "https://localhost:8080/"
        },
        "id": "ckRgliBpL4_0",
        "outputId": "c795a9d7-3481-4b5c-8b3f-cf6a72e4f5d4"
      },
      "execution_count": null,
      "outputs": [
        {
          "name": "stdout",
          "output_type": "stream",
          "text": [
            "enter the name of item you order else say NO to stop the orderCOFFEE\n",
            "enter the name of item you order else say NO to stop the ordercold coffee\n",
            "enter the name of item you order else say NO to stop the orderNO\n"
          ]
        },
        {
          "output_type": "execute_result",
          "data": {
            "text/plain": [
              "['COFFEE', 'cold coffee']"
            ]
          },
          "metadata": {},
          "execution_count": 86
        }
      ]
    },
    {
      "cell_type": "code",
      "source": [
        "restro2.get_menu_card()"
      ],
      "metadata": {
        "colab": {
          "base_uri": "https://localhost:8080/"
        },
        "id": "sRc5TuHNMAjv",
        "outputId": "a53c8ad8-4060-46d8-c5ab-555f529ec5d0"
      },
      "execution_count": null,
      "outputs": [
        {
          "output_type": "execute_result",
          "data": {
            "text/plain": [
              "{'coffe': ['hot coffee containing coco powder, coffee and suger and hot milk',\n",
              "  50,\n",
              "  'brevage'],\n",
              " 'cold coffee': ['cold coffee',\n",
              "  'coffee with ice cubes ,cold milk and mixed with chocklate',\n",
              "  '80',\n",
              "  'brevage'],\n",
              " 'capachino': ['capachino', 'category of hot coffee', 120, 'brevage']}"
            ]
          },
          "metadata": {},
          "execution_count": 87
        }
      ]
    },
    {
      "cell_type": "markdown",
      "source": [
        "Ques 7"
      ],
      "metadata": {
        "id": "SaQbpP8VwalV"
      }
    },
    {
      "cell_type": "code",
      "source": [
        "class hotel:\n",
        "  def __init__(self,room_no,room_type,price_per_night):\n",
        "    self.__room_no = room_no\n",
        "    self.room_type = room_type\n",
        "    self.price_per_night = price_per_night\n",
        "    self.__availablity = True\n",
        "  def book_room(self):\n",
        "    if self.__availablity is True:\n",
        "      self.__availablity = False\n",
        "      print(f\"room no {self.__room_no} is ready to book for you\")\n",
        "    else:\n",
        "      print(f\"room no {self.__room_no} is already booked\")\n",
        "  def check_in(self):\n",
        "        if self.__availablity == False:\n",
        "            print(f\"Guest has checked into room {self.__room_no}.\")\n",
        "        else:\n",
        "            print(f\"Room {self.__room_no} is not booked yet. Please book the room first.\")\n",
        "  def check_out(self):\n",
        "        if self.__availablity == True:\n",
        "            self.__availablity = True\n",
        "            print(f\"Guest has checked out of room {self.__room_no}. Room is now available.\")\n",
        "        else:\n",
        "            print(f\"Room {self.__room_no} is already available.\")\n",
        "  def get_room_number(self):\n",
        "        return self.__room_no\n",
        "\n",
        "  def is_available(self):\n",
        "        return self.__availablity"
      ],
      "metadata": {
        "id": "r4S9zI63lk3F"
      },
      "execution_count": null,
      "outputs": []
    },
    {
      "cell_type": "code",
      "source": [
        "room1 = hotel(101,\"delux dubble\",1000)"
      ],
      "metadata": {
        "id": "m6QYR-y7ox4d"
      },
      "execution_count": null,
      "outputs": []
    },
    {
      "cell_type": "code",
      "source": [
        "room1.get_room_number()"
      ],
      "metadata": {
        "colab": {
          "base_uri": "https://localhost:8080/"
        },
        "id": "rBTkUIgHpCsS",
        "outputId": "ca06784c-dd31-4494-fb19-e77bd59fc2ab"
      },
      "execution_count": null,
      "outputs": [
        {
          "output_type": "execute_result",
          "data": {
            "text/plain": [
              "101"
            ]
          },
          "metadata": {},
          "execution_count": 90
        }
      ]
    },
    {
      "cell_type": "code",
      "source": [
        "room1.is_available()"
      ],
      "metadata": {
        "colab": {
          "base_uri": "https://localhost:8080/"
        },
        "id": "u5Vb2gcjpSPq",
        "outputId": "a60258e7-9411-47f8-80d5-9f249078fe4f"
      },
      "execution_count": null,
      "outputs": [
        {
          "output_type": "execute_result",
          "data": {
            "text/plain": [
              "True"
            ]
          },
          "metadata": {},
          "execution_count": 91
        }
      ]
    },
    {
      "cell_type": "code",
      "source": [
        "room1.book_room()"
      ],
      "metadata": {
        "colab": {
          "base_uri": "https://localhost:8080/"
        },
        "id": "dmLi4U4-pfKy",
        "outputId": "f22d7a37-e1de-4745-8ebf-246fb8f852af"
      },
      "execution_count": null,
      "outputs": [
        {
          "output_type": "stream",
          "name": "stdout",
          "text": [
            "room no 101 is ready to book for you\n"
          ]
        }
      ]
    },
    {
      "cell_type": "code",
      "source": [
        "room1.check_in()"
      ],
      "metadata": {
        "colab": {
          "base_uri": "https://localhost:8080/"
        },
        "id": "_8orOF_apjNJ",
        "outputId": "3f6eeda4-986e-4426-e2df-7c9e4dd5bd69"
      },
      "execution_count": null,
      "outputs": [
        {
          "output_type": "stream",
          "name": "stdout",
          "text": [
            "Guest has checked into room 101.\n"
          ]
        }
      ]
    },
    {
      "cell_type": "code",
      "source": [
        "class SuiteRoom(hotel):\n",
        "    def __init__(self, room_no, room_type,price_per_night, has_jacuzzi):\n",
        "        super().__init__(room_no, room_type, price_per_night)\n",
        "        self.has_jacuzzi = has_jacuzzi\n",
        "        print(\"This is suit room class\")\n",
        "\n",
        "    def book_room(self):\n",
        "        if self.is_available() is True:\n",
        "            super().book_room()\n",
        "            print(\"Enjoy your luxurious suite!\")\n",
        "        else:\n",
        "            print(f\"Suite room {self.get_room_number()} is already booked.\")"
      ],
      "metadata": {
        "id": "m7N-W6cFqnyv"
      },
      "execution_count": null,
      "outputs": []
    },
    {
      "cell_type": "code",
      "source": [
        "room2 = SuiteRoom(102,\"delux dubble\",1000,True)"
      ],
      "metadata": {
        "colab": {
          "base_uri": "https://localhost:8080/"
        },
        "id": "z_4vRDrprjwF",
        "outputId": "f9a75ffa-3f0b-4cea-87ff-8efcdfcd5691"
      },
      "execution_count": null,
      "outputs": [
        {
          "output_type": "stream",
          "name": "stdout",
          "text": [
            "This is suit room class\n"
          ]
        }
      ]
    },
    {
      "cell_type": "code",
      "source": [
        "room2.book_room()"
      ],
      "metadata": {
        "colab": {
          "base_uri": "https://localhost:8080/"
        },
        "id": "GVP9hQvrsDOx",
        "outputId": "492320f8-f7cd-4c43-e199-36aa8372ecb9"
      },
      "execution_count": null,
      "outputs": [
        {
          "output_type": "stream",
          "name": "stdout",
          "text": [
            "room no 102 is ready to book for you\n",
            "Enjoy your luxurious suite!\n"
          ]
        }
      ]
    },
    {
      "cell_type": "code",
      "source": [
        "class StandardRoom(hotel):\n",
        "    def __init__(self, room_no,room_type,price_per_night, has_tv):\n",
        "        super().__init__(room_no,room_type,price_per_night)\n",
        "        self.has_tv = has_tv\n",
        "        print(\"This is standard room class\")\n",
        "\n",
        "    def book_room(self):\n",
        "        if self.is_available() == True:\n",
        "            super().book_room()\n",
        "            print(\"Enjoy your standard room!\")\n",
        "        else:\n",
        "            print(f\"Standard room {self.get_room_number()} is already booked.\")"
      ],
      "metadata": {
        "id": "aPdX5m1Evv_d"
      },
      "execution_count": null,
      "outputs": []
    },
    {
      "cell_type": "code",
      "source": [
        "room3 = StandardRoom(103,\"delux dubble\",1000,True)"
      ],
      "metadata": {
        "colab": {
          "base_uri": "https://localhost:8080/"
        },
        "id": "pcZyba2mwGH_",
        "outputId": "f19a31d9-8709-4e4d-a47d-cf73fc5de797"
      },
      "execution_count": null,
      "outputs": [
        {
          "output_type": "stream",
          "name": "stdout",
          "text": [
            "This is standard room class\n"
          ]
        }
      ]
    },
    {
      "cell_type": "code",
      "source": [
        "room3.book_room()"
      ],
      "metadata": {
        "colab": {
          "base_uri": "https://localhost:8080/"
        },
        "id": "A8hQP8M2wWii",
        "outputId": "a5ca1ae7-206e-4366-a13e-1ffe60b523a4"
      },
      "execution_count": null,
      "outputs": [
        {
          "output_type": "stream",
          "name": "stdout",
          "text": [
            "room no 103 is ready to book for you\n",
            "Enjoy your standard room!\n"
          ]
        }
      ]
    },
    {
      "cell_type": "markdown",
      "source": [
        "Ques 8"
      ],
      "metadata": {
        "id": "4oZvD4lvxGkK"
      }
    },
    {
      "cell_type": "code",
      "source": [
        "class member:\n",
        "  def __init__(self,name,age,membership_type,id_number):\n",
        "    self.name = name\n",
        "    self.age = age\n",
        "    self.membership_type = membership_type\n",
        "    self.__id_number = id_number\n",
        "    self.__membership_status = True\n",
        "  def get_membership_status(self):\n",
        "    return self.__membership_status\n",
        "  def update_membership_status(self,status):\n",
        "    self.__membership_status = status\n",
        "  def get_id_number(self):\n",
        "    return self.__id_number\n"
      ],
      "metadata": {
        "id": "RSobWgThxHsk"
      },
      "execution_count": null,
      "outputs": []
    },
    {
      "cell_type": "code",
      "source": [
        "member1 = member(\"navneet\",20,\"golden\",\"abc@123\")"
      ],
      "metadata": {
        "id": "CvU8X1qWya8L"
      },
      "execution_count": null,
      "outputs": []
    },
    {
      "cell_type": "code",
      "source": [
        "member1.get_membership_status()"
      ],
      "metadata": {
        "colab": {
          "base_uri": "https://localhost:8080/"
        },
        "id": "Y0x9XTPqyl1H",
        "outputId": "2315ec91-85d4-429a-a467-975729438966"
      },
      "execution_count": null,
      "outputs": [
        {
          "output_type": "execute_result",
          "data": {
            "text/plain": [
              "True"
            ]
          },
          "metadata": {},
          "execution_count": 103
        }
      ]
    },
    {
      "cell_type": "code",
      "source": [
        "member1.update_membership_status(False)"
      ],
      "metadata": {
        "id": "zOaxWDGGyphl"
      },
      "execution_count": null,
      "outputs": []
    },
    {
      "cell_type": "code",
      "source": [
        "member1.get_membership_status()"
      ],
      "metadata": {
        "colab": {
          "base_uri": "https://localhost:8080/"
        },
        "id": "gwmwWrrWytfg",
        "outputId": "6b8559c0-3725-49e3-bb5c-cafd5f0f8186"
      },
      "execution_count": null,
      "outputs": [
        {
          "output_type": "execute_result",
          "data": {
            "text/plain": [
              "False"
            ]
          },
          "metadata": {},
          "execution_count": 105
        }
      ]
    },
    {
      "cell_type": "code",
      "source": [
        "class FamilyMember(member):\n",
        "    def __init__(self,name , age ,membership_type,id_number, family_size):\n",
        "        super().__init__(name , age ,membership_type,id_number)\n",
        "        self.family_size = family_size\n",
        "\n",
        "    def register_member(self):\n",
        "        #super().register_member()\n",
        "        print(f\"Family membership for {self.name} with family size {self.family_size} registered successfully.\")"
      ],
      "metadata": {
        "id": "DmCx9ORWQXdW"
      },
      "execution_count": null,
      "outputs": []
    },
    {
      "cell_type": "code",
      "source": [
        "member2 = FamilyMember(\"navneet\",20,\"golden\",\"abc@123\",5)"
      ],
      "metadata": {
        "id": "FDeCqYYvSKXk"
      },
      "execution_count": null,
      "outputs": []
    },
    {
      "cell_type": "code",
      "source": [
        "member2.register_member()"
      ],
      "metadata": {
        "colab": {
          "base_uri": "https://localhost:8080/"
        },
        "id": "yzXBFZJ_SOsf",
        "outputId": "acab9a80-68a3-46b9-d781-b3001f67390f"
      },
      "execution_count": null,
      "outputs": [
        {
          "output_type": "stream",
          "name": "stdout",
          "text": [
            "Family membership for navneet with family size 5 registered successfully.\n"
          ]
        }
      ]
    },
    {
      "cell_type": "code",
      "source": [
        "class individualmember(member):\n",
        "  def __init__(self,name , age ,membership_type,id_number,personal_trainer):\n",
        "      super().__init__(name , age ,membership_type,id_number)\n",
        "      self.personal_trainer = personal_trainer\n",
        "  def register_member(self):\n",
        "    print(f\"Individual membership for {self.name} with personal trainer {self.personal_trainer} registered successfully.\")"
      ],
      "metadata": {
        "id": "B76PgnzbSaNg"
      },
      "execution_count": null,
      "outputs": []
    },
    {
      "cell_type": "code",
      "source": [
        "member3 = individualmember(\"navneet\",20,\"golden\",\"abc@123\",\"ranvir\")"
      ],
      "metadata": {
        "id": "i1axFYhTSr1s"
      },
      "execution_count": null,
      "outputs": []
    },
    {
      "cell_type": "code",
      "source": [
        "member3.register_member()"
      ],
      "metadata": {
        "colab": {
          "base_uri": "https://localhost:8080/"
        },
        "id": "9G-rj81GTIXv",
        "outputId": "4dd5d98e-b4be-4d60-fd66-a04415538b63"
      },
      "execution_count": null,
      "outputs": [
        {
          "output_type": "stream",
          "name": "stdout",
          "text": [
            "Individual membership for navneet with personal trainer ranvir registered successfully.\n"
          ]
        }
      ]
    },
    {
      "cell_type": "markdown",
      "source": [
        "Ques 9"
      ],
      "metadata": {
        "id": "V-vZ12tkTQJW"
      }
    },
    {
      "cell_type": "code",
      "source": [
        "class event:\n",
        "  def __init__(self,name,date,time,location,attendees):\n",
        "    self.name = name\n",
        "    self.time = time\n",
        "    self.date = date\n",
        "    self.location = location\n",
        "    self.attendees = attendees\n",
        "    self.__list_of_attendees = []\n",
        "    for i in self.attendees:\n",
        "      self.__list_of_attendees.append(i)\n",
        "  def get_attendees(self):\n",
        "    return self.__list_of_attendees\n",
        "  def add_attendees(self,attendees):\n",
        "    self.__list_of_attendees.append(attendees)\n",
        "  def remove_attendees(self,attendees):\n",
        "    self.__list_of_attendees.remove(attendees)\n",
        "  def get_total_attendees(self):\n",
        "    return len(self.__list_of_attendees)\n",
        "  def get_event_details(self):\n",
        "    print(f\"the name of the event is {self.name} and the location is {self.location}\")\n",
        "    print(f\"the date of the event is {self.date} and the time is {self.time}\")"
      ],
      "metadata": {
        "id": "NGlGSN0pT7eO"
      },
      "execution_count": null,
      "outputs": []
    },
    {
      "cell_type": "code",
      "source": [
        "event1 = event(\"folk dance\",\"12 feb 1975\",\"12 AM\",\"delhi\",[\"mahesh\",\"ramesh\",\"suresh\",\"tanmey\",\"ashwin\",\"mohit\"])"
      ],
      "metadata": {
        "id": "TRgMdVwMU-4J"
      },
      "execution_count": null,
      "outputs": []
    },
    {
      "cell_type": "code",
      "source": [
        "event1.get_total_attendees()"
      ],
      "metadata": {
        "colab": {
          "base_uri": "https://localhost:8080/"
        },
        "id": "Z-NoKM2AVwyg",
        "outputId": "ef66f1e6-e779-4934-b85e-88de78b8aadf"
      },
      "execution_count": null,
      "outputs": [
        {
          "output_type": "execute_result",
          "data": {
            "text/plain": [
              "6"
            ]
          },
          "metadata": {},
          "execution_count": 122
        }
      ]
    },
    {
      "cell_type": "code",
      "source": [
        "event1.add_attendees(\"nitika\")"
      ],
      "metadata": {
        "id": "9do1cmBJV1D5"
      },
      "execution_count": null,
      "outputs": []
    },
    {
      "cell_type": "code",
      "source": [
        "event1.add_attendees(\"golu\")"
      ],
      "metadata": {
        "id": "7m_bDICwWBUZ"
      },
      "execution_count": null,
      "outputs": []
    },
    {
      "cell_type": "code",
      "source": [
        "event1.get_total_attendees()"
      ],
      "metadata": {
        "colab": {
          "base_uri": "https://localhost:8080/"
        },
        "id": "Imtpz9FlWIdO",
        "outputId": "f8a45004-9218-48ff-8cfe-3b94d83e318d"
      },
      "execution_count": null,
      "outputs": [
        {
          "output_type": "execute_result",
          "data": {
            "text/plain": [
              "8"
            ]
          },
          "metadata": {},
          "execution_count": 125
        }
      ]
    },
    {
      "cell_type": "code",
      "source": [
        "event1.get_attendees()"
      ],
      "metadata": {
        "colab": {
          "base_uri": "https://localhost:8080/"
        },
        "id": "LRG2gVEhWMJL",
        "outputId": "376b5633-232e-4352-b0e3-82b3b67d6598"
      },
      "execution_count": null,
      "outputs": [
        {
          "output_type": "execute_result",
          "data": {
            "text/plain": [
              "['mahesh', 'ramesh', 'suresh', 'tanmey', 'ashwin', 'mohit', 'nitika', 'golu']"
            ]
          },
          "metadata": {},
          "execution_count": 126
        }
      ]
    },
    {
      "cell_type": "code",
      "source": [
        "event1.get_event_details()"
      ],
      "metadata": {
        "colab": {
          "base_uri": "https://localhost:8080/"
        },
        "id": "sXpOyf4uWRvi",
        "outputId": "3fe1adc3-a4ec-4b7b-b2cb-f78f1d0f5b88"
      },
      "execution_count": null,
      "outputs": [
        {
          "output_type": "stream",
          "name": "stdout",
          "text": [
            "the name of the event is folk dance and the location is delhi\n",
            "the date of the event is 12 feb 1975 and the time is 12 AM\n"
          ]
        }
      ]
    },
    {
      "cell_type": "code",
      "source": [
        "class privateevent(event):\n",
        "  def __init__(self,name,date,time,location,attendees,organizer):\n",
        "    super().__init__(name,date,time,location,attendees)\n",
        "    self.organizer = organizer\n",
        "  def get_organizer(self):\n",
        "    return self.organizer"
      ],
      "metadata": {
        "id": "3F-sKDTGWXiC"
      },
      "execution_count": null,
      "outputs": []
    },
    {
      "cell_type": "code",
      "source": [
        "event2 = privateevent(\"folk dance\",\"12 feb 1975\",\"12 AM\",\"delhi\",[\"mahesh\",\"ramesh\",\"suresh\",\"tanmey\",\"ashwin\",\"mohit\"],\"navneet\")"
      ],
      "metadata": {
        "id": "9_nc29-DWjMr"
      },
      "execution_count": null,
      "outputs": []
    },
    {
      "cell_type": "code",
      "source": [
        "event2.get_organizer()"
      ],
      "metadata": {
        "colab": {
          "base_uri": "https://localhost:8080/",
          "height": 35
        },
        "id": "j5dQH_l_Wpfq",
        "outputId": "8744d25a-50bc-4623-9ce3-ffc64f4824dd"
      },
      "execution_count": null,
      "outputs": [
        {
          "output_type": "execute_result",
          "data": {
            "text/plain": [
              "'navneet'"
            ],
            "application/vnd.google.colaboratory.intrinsic+json": {
              "type": "string"
            }
          },
          "metadata": {},
          "execution_count": 130
        }
      ]
    },
    {
      "cell_type": "code",
      "source": [
        "class publicevent(event):\n",
        "  def __init__(self,name,date,time,location,attendees,invited_group):\n",
        "    super().__init__(name,date,time,location,attendees)\n",
        "    self.invited_group = invited_group\n",
        "  def get_invited_group(self):\n",
        "    return self.invited_group"
      ],
      "metadata": {
        "id": "qIUFlMGSWtP-"
      },
      "execution_count": null,
      "outputs": []
    },
    {
      "cell_type": "code",
      "source": [
        "event3 = publicevent(\"folk dance\",\"12 feb 1975\",\"12 AM\",\"delhi\",[\"mahesh\",\"ramesh\",\"suresh\",\"tanmey\",\"ashwin\",\"mohit\"],[\"riyaz musical group\"])"
      ],
      "metadata": {
        "id": "4YOVfqP3W8PU"
      },
      "execution_count": null,
      "outputs": []
    },
    {
      "cell_type": "code",
      "source": [
        "event3.get_invited_group()"
      ],
      "metadata": {
        "colab": {
          "base_uri": "https://localhost:8080/"
        },
        "id": "lX4r1jn2XFan",
        "outputId": "161506a2-7472-450d-bfe3-73327d15ea80"
      },
      "execution_count": null,
      "outputs": [
        {
          "output_type": "execute_result",
          "data": {
            "text/plain": [
              "['riyaz musical group']"
            ]
          },
          "metadata": {},
          "execution_count": 133
        }
      ]
    },
    {
      "cell_type": "markdown",
      "source": [
        "Ques 10"
      ],
      "metadata": {
        "id": "2xLkdSn_Y18l"
      }
    },
    {
      "cell_type": "code",
      "source": [
        "class flight:\n",
        "  def __init__(self,flight_number,departure_port,arrival_port,departure_time,arrival_time,seats_available,flight_unique_no):\n",
        "    self.flight_number = flight_number\n",
        "    self.departure_port = departure_port\n",
        "    self.arrival_port = arrival_port\n",
        "    self.departure_time = departure_time\n",
        "    self.arrival_time = arrival_time\n",
        "    self.__seats_available = seats_available\n",
        "    self.__flight_unique_no = flight_unique_no\n",
        "  def get_available_seats(self):\n",
        "    return self.__seats_available\n",
        "  def get_flight_unique_no(self):\n",
        "    return self.__flight_unique_no\n",
        "  def book_seats(self,seats_to_book):\n",
        "    if seats_to_book <= self.__seats_available and self.__seats_available>0:\n",
        "      self.__seats_available -= seats_to_book\n",
        "      print(f\"you have successfully booked {seats_to_book} seats for flight {self.flight_number}\")\n",
        "  def cancel_seats(self,seats_to_cancel):\n",
        "    if seats_to_cancel <= self.__seats_available:\n",
        "      self.__seats_available += seats_to_cancel\n",
        "      print(f\"you have successfully cancelled {seats_to_cancel} seats for flight {self.flight_number}\")\n",
        "  def get_flight_details(self):\n",
        "    print(f\"the flight number is {self.flight_number}\")\n",
        "    print(f\"the departure port is {self.departure_port}\")\n",
        "    print(f\"the arrival port is {self.arrival_port}\")"
      ],
      "metadata": {
        "id": "Dtc_5GFgY3Cl"
      },
      "execution_count": null,
      "outputs": []
    },
    {
      "cell_type": "code",
      "source": [
        "flight1 = flight(\"1213675abd\",\"india\",\"switzerland\",\"11 AM\",\"07 PM\",100,\"abc123\")"
      ],
      "metadata": {
        "id": "D1EUbGwuadV-"
      },
      "execution_count": null,
      "outputs": []
    },
    {
      "cell_type": "code",
      "source": [
        "flight1.get_flight_details()"
      ],
      "metadata": {
        "colab": {
          "base_uri": "https://localhost:8080/"
        },
        "id": "nU_s25hRa3B9",
        "outputId": "72adda9a-0cff-4567-befe-3e79c195aa8d"
      },
      "execution_count": null,
      "outputs": [
        {
          "output_type": "stream",
          "name": "stdout",
          "text": [
            "the flight number is 1213675abd\n",
            "the departure port is india\n",
            "the arrival port is switzerland\n"
          ]
        }
      ]
    },
    {
      "cell_type": "code",
      "source": [
        "flight1.get_available_seats()"
      ],
      "metadata": {
        "colab": {
          "base_uri": "https://localhost:8080/"
        },
        "id": "EyGDngNaa82d",
        "outputId": "7d750bdb-1e13-41a7-9fc3-12dc1355b4e5"
      },
      "execution_count": null,
      "outputs": [
        {
          "output_type": "execute_result",
          "data": {
            "text/plain": [
              "100"
            ]
          },
          "metadata": {},
          "execution_count": 139
        }
      ]
    },
    {
      "cell_type": "code",
      "source": [
        "flight1.book_seats(15)"
      ],
      "metadata": {
        "colab": {
          "base_uri": "https://localhost:8080/"
        },
        "id": "o0Y-ZD8-bBUt",
        "outputId": "d692cf07-0014-4374-912e-f7d1d4a856fe"
      },
      "execution_count": null,
      "outputs": [
        {
          "output_type": "stream",
          "name": "stdout",
          "text": [
            "you have successfully booked 15 seats for flight 1213675abd\n"
          ]
        }
      ]
    },
    {
      "cell_type": "code",
      "source": [
        "flight1.cancel_seats(10)"
      ],
      "metadata": {
        "colab": {
          "base_uri": "https://localhost:8080/"
        },
        "id": "GmvVIOpgbF2C",
        "outputId": "34eb7e24-ce3b-43df-d73c-542b16f32ce4"
      },
      "execution_count": null,
      "outputs": [
        {
          "output_type": "stream",
          "name": "stdout",
          "text": [
            "you have successfully cancelled 10 seats for flight 1213675abd\n"
          ]
        }
      ]
    },
    {
      "cell_type": "code",
      "source": [
        "class domestic_flight(flight):\n",
        "  def __init__(self,flight_number,departure_port,arrival_port,departure_time,arrival_time,seats_available,flight_unique_no,flight_name):\n",
        "    super().__init__(flight_number,departure_port,arrival_port,departure_time,arrival_time,seats_available,flight_unique_no)\n",
        "    self.flight_name = flight_name\n",
        "    print(\"this is a domestic flight\")\n",
        "  def get_flight_name(self):\n",
        "    return self.flight_name"
      ],
      "metadata": {
        "id": "LI3cM5I-bb9q"
      },
      "execution_count": null,
      "outputs": []
    },
    {
      "cell_type": "code",
      "source": [
        "flight2 = domestic_flight(\"1213675abd\",\"india\",\"switzerland\",\"11 AM\",\"07 PM\",100,\"abc123\",\"air india\")"
      ],
      "metadata": {
        "colab": {
          "base_uri": "https://localhost:8080/"
        },
        "id": "vSiwvVxccHQW",
        "outputId": "9db8d0a8-2490-405d-9fb4-f6caa98e89cb"
      },
      "execution_count": null,
      "outputs": [
        {
          "output_type": "stream",
          "name": "stdout",
          "text": [
            "this is a domestic flight\n"
          ]
        }
      ]
    },
    {
      "cell_type": "code",
      "source": [
        "flight2.get_flight_name()"
      ],
      "metadata": {
        "colab": {
          "base_uri": "https://localhost:8080/",
          "height": 35
        },
        "id": "VF7T_vj7cMIv",
        "outputId": "072f5666-395d-4bcb-eff6-2a6af15f889c"
      },
      "execution_count": null,
      "outputs": [
        {
          "output_type": "execute_result",
          "data": {
            "text/plain": [
              "'air india'"
            ],
            "application/vnd.google.colaboratory.intrinsic+json": {
              "type": "string"
            }
          },
          "metadata": {},
          "execution_count": 144
        }
      ]
    },
    {
      "cell_type": "code",
      "source": [
        "class international_flight(flight):\n",
        "  def __init__(self,flight_number,departure_port,arrival_port,departure_time,arrival_time,seats_available,flight_unique_no,flight_pilot_name):\n",
        "    super().__init__(flight_number,departure_port,arrival_port,departure_time,arrival_time,seats_available,flight_unique_no)\n",
        "    self.flight_pilot_name = flight_pilot_name\n",
        "    print(\"this is a international flight\")\n",
        "  def get_flight_pilot_name(self):\n",
        "    return self.flight_pilot_name"
      ],
      "metadata": {
        "id": "gX6kH7Q1cPxx"
      },
      "execution_count": null,
      "outputs": []
    },
    {
      "cell_type": "code",
      "source": [
        "flight3 = international_flight(\"1213675abd\",\"india\",\"switzerland\",\"11 AM\",\"07 PM\",100,\"abc123\",\"navneet\")"
      ],
      "metadata": {
        "colab": {
          "base_uri": "https://localhost:8080/"
        },
        "id": "8QP3xvCvchML",
        "outputId": "f723c22e-7bcd-4791-f78e-9f92776f0b60"
      },
      "execution_count": null,
      "outputs": [
        {
          "output_type": "stream",
          "name": "stdout",
          "text": [
            "this is a international flight\n"
          ]
        }
      ]
    },
    {
      "cell_type": "code",
      "source": [
        "flight3.get_flight_pilot_name()"
      ],
      "metadata": {
        "colab": {
          "base_uri": "https://localhost:8080/",
          "height": 35
        },
        "id": "5-A4p1vLck-l",
        "outputId": "54944900-1c1f-476a-bd94-b509ab109cf1"
      },
      "execution_count": null,
      "outputs": [
        {
          "output_type": "execute_result",
          "data": {
            "text/plain": [
              "'navneet'"
            ],
            "application/vnd.google.colaboratory.intrinsic+json": {
              "type": "string"
            }
          },
          "metadata": {},
          "execution_count": 147
        }
      ]
    },
    {
      "cell_type": "markdown",
      "source": [
        "Ques 12"
      ],
      "metadata": {
        "id": "lYPUhf-ScsTa"
      }
    },
    {
      "cell_type": "code",
      "source": [
        "#calculator_py.py file\n",
        "def divide(a,b):\n",
        "  return a/b\n",
        "def add(a,b):\n",
        "  return a+b\n",
        "def sub(a,b):\n",
        "  return a-b\n",
        "def mul(a,b):\n",
        "  return a*b"
      ],
      "metadata": {
        "id": "vaUp1k3iLYXF"
      },
      "execution_count": null,
      "outputs": []
    },
    {
      "cell_type": "code",
      "source": [
        "import calculator_py as c"
      ],
      "metadata": {
        "id": "oFT68Z-itoI2"
      },
      "execution_count": null,
      "outputs": []
    },
    {
      "cell_type": "code",
      "source": [
        "c.divide(15,5)"
      ],
      "metadata": {
        "colab": {
          "base_uri": "https://localhost:8080/"
        },
        "id": "e7LEP6F1rZAW",
        "outputId": "c0b3dfd6-6cb8-455b-b116-b8e91891c01b"
      },
      "execution_count": null,
      "outputs": [
        {
          "output_type": "execute_result",
          "data": {
            "text/plain": [
              "3.0"
            ]
          },
          "metadata": {},
          "execution_count": 7
        }
      ]
    },
    {
      "cell_type": "markdown",
      "source": [
        "Ques 11"
      ],
      "metadata": {
        "id": "fJ6IazQctWc1"
      }
    },
    {
      "cell_type": "code",
      "source": [
        "#constant_py.py file\n",
        "pi = 3.14\n",
        "speed_of_light = 299792458"
      ],
      "metadata": {
        "id": "paq3k9jKLTYI"
      },
      "execution_count": null,
      "outputs": []
    },
    {
      "cell_type": "code",
      "source": [
        "import constant_py as con"
      ],
      "metadata": {
        "id": "jjxU_xXescaO"
      },
      "execution_count": null,
      "outputs": []
    },
    {
      "cell_type": "code",
      "source": [
        "con.pi"
      ],
      "metadata": {
        "colab": {
          "base_uri": "https://localhost:8080/"
        },
        "id": "DQvDTDNes8oB",
        "outputId": "1c7be146-0dd3-43ba-8d29-fd1a2a349b11"
      },
      "execution_count": null,
      "outputs": [
        {
          "output_type": "execute_result",
          "data": {
            "text/plain": [
              "3.14"
            ]
          },
          "metadata": {},
          "execution_count": 11
        }
      ]
    },
    {
      "cell_type": "code",
      "source": [
        "con.speed_of_light"
      ],
      "metadata": {
        "colab": {
          "base_uri": "https://localhost:8080/"
        },
        "id": "mbjIaz0ms-qv",
        "outputId": "b75409f6-b228-408a-918f-e3aa77345614"
      },
      "execution_count": null,
      "outputs": [
        {
          "output_type": "execute_result",
          "data": {
            "text/plain": [
              "299792458"
            ]
          },
          "metadata": {},
          "execution_count": 12
        }
      ]
    },
    {
      "cell_type": "markdown",
      "source": [
        "Ques 13"
      ],
      "metadata": {
        "id": "HMGvjTAttbD3"
      }
    },
    {
      "cell_type": "code",
      "source": [
        "#string_utils_py.py file\n",
        "def reverse_string(s):\n",
        "    return s[::-1]\n",
        "\n",
        "def capitalize_string(s):\n",
        "    return s.title()"
      ],
      "metadata": {
        "id": "eFZBF6W3LGH3"
      },
      "execution_count": null,
      "outputs": []
    },
    {
      "cell_type": "code",
      "source": [
        "import string_utils_py as s"
      ],
      "metadata": {
        "id": "lyc47wLltcTP"
      },
      "execution_count": null,
      "outputs": []
    },
    {
      "cell_type": "code",
      "source": [
        "s.reverse_string(\"navneet\")"
      ],
      "metadata": {
        "colab": {
          "base_uri": "https://localhost:8080/",
          "height": 35
        },
        "id": "Ts_CcOhE58JE",
        "outputId": "5366e879-4efb-49cb-fe37-a11634c438cd"
      },
      "execution_count": null,
      "outputs": [
        {
          "output_type": "execute_result",
          "data": {
            "text/plain": [
              "'teenvan'"
            ],
            "application/vnd.google.colaboratory.intrinsic+json": {
              "type": "string"
            }
          },
          "metadata": {},
          "execution_count": 14
        }
      ]
    },
    {
      "cell_type": "code",
      "source": [
        "s.capitalize_string(\"rohan\")"
      ],
      "metadata": {
        "colab": {
          "base_uri": "https://localhost:8080/",
          "height": 35
        },
        "id": "3p3rFIVr5_jV",
        "outputId": "9b373cb8-89c7-4b61-8f46-e2a5bbb9e759"
      },
      "execution_count": null,
      "outputs": [
        {
          "output_type": "execute_result",
          "data": {
            "text/plain": [
              "'Rohan'"
            ],
            "application/vnd.google.colaboratory.intrinsic+json": {
              "type": "string"
            }
          },
          "metadata": {},
          "execution_count": 15
        }
      ]
    },
    {
      "cell_type": "code",
      "source": [
        "file = open(\"Myfilr.txt\",\"w\")\n",
        "file.write(\"this is my first line\\n\")\n",
        "file.write(\"this is my second line\\n\")\n",
        "file.write(\"this is my third line\\n\")\n",
        "file.write(\"this is my fourth line\\n\")\n",
        "file.close()"
      ],
      "metadata": {
        "id": "IwgY607BMqx6"
      },
      "execution_count": null,
      "outputs": []
    },
    {
      "cell_type": "markdown",
      "source": [
        "Ques 15\n"
      ],
      "metadata": {
        "id": "zjegMJRM7Fzc"
      }
    },
    {
      "cell_type": "code",
      "source": [
        "#file_operation_py.py file\n",
        "def read_file(file_path):\n",
        "    try:\n",
        "        with open(file_path, 'r') as file:\n",
        "            content = file.read()\n",
        "        return content\n",
        "    except FileNotFoundError:\n",
        "        return \"File not found.\"\n",
        "def write_file(file_path, data):\n",
        "    with open(file_path, 'w') as file:\n",
        "        file.write(data)\n",
        "    print(\"Data written to file successfully.\")\n",
        "def write_file(file_path, data):\n",
        "    with open(file_path, 'w') as file:\n",
        "        file.write(data)\n",
        "    print(\"Data written to file successfully.\")"
      ],
      "metadata": {
        "id": "tSiVjEY3Kjkj"
      },
      "execution_count": null,
      "outputs": []
    },
    {
      "cell_type": "code",
      "source": [
        "import file_operation_py as f\n",
        "if __name__ == \"__main__\":\n",
        "    file_path = 'Myfilr.txt'\n",
        "\n",
        "    # Write data to a file\n",
        "    result = f.write_file(file_path, \"Hello, world!\\n\")\n",
        "    print(result)\n",
        "\n",
        "    # Append data to the file\n",
        "    result = f.append_file(file_path, \"Appending this text.\\n\")\n",
        "    print(result)\n",
        "\n",
        "    # Read data from the file\n",
        "    content = f.read_file(file_path)\n",
        "    print(content)"
      ],
      "metadata": {
        "colab": {
          "base_uri": "https://localhost:8080/"
        },
        "id": "9ui-67Q17Hwi",
        "outputId": "af95ecc0-f245-4226-e90b-d478bd1b21a4"
      },
      "execution_count": null,
      "outputs": [
        {
          "output_type": "stream",
          "name": "stdout",
          "text": [
            "Data written to file successfully.\n",
            "None\n",
            "Data appended to file successfully.\n",
            "None\n",
            "Hello, world!\n",
            "Appending this text.\n",
            "\n"
          ]
        }
      ]
    },
    {
      "cell_type": "markdown",
      "source": [
        "Ques 16"
      ],
      "metadata": {
        "id": "WtOpce_9NTnC"
      }
    },
    {
      "cell_type": "code",
      "source": [
        "file = open(\"employee.txt\",\"w\")\n",
        "file.write(\"The employee name is navneet\\n\")\n",
        "file.write(\"The employee age is 20\\n\")\n",
        "file.write(\"The employee salary is 100000\\n\")\n",
        "file.write(\"The employee department is IT\\n\")\n",
        "file.close()"
      ],
      "metadata": {
        "id": "E6BdPLBPNc9-"
      },
      "execution_count": null,
      "outputs": []
    },
    {
      "cell_type": "code",
      "source": [],
      "metadata": {
        "id": "X7SR-1NxKdcl"
      },
      "execution_count": null,
      "outputs": []
    },
    {
      "cell_type": "code",
      "source": [
        "file = open(\"employee.txt\",\"r\")\n",
        "content = file.read()\n",
        "print(content)\n",
        "file.close()"
      ],
      "metadata": {
        "colab": {
          "base_uri": "https://localhost:8080/"
        },
        "id": "7ShA9nbYOR9n",
        "outputId": "f69d4b81-ad5d-450f-f70e-60e1f2a87bd2"
      },
      "execution_count": null,
      "outputs": [
        {
          "output_type": "stream",
          "name": "stdout",
          "text": [
            "The employee name is navneet\n",
            "The employee age is 20\n",
            "The employee salary is 100000\n",
            "The employee department is IT\n",
            "\n"
          ]
        }
      ]
    },
    {
      "cell_type": "markdown",
      "source": [
        "Ques 17"
      ],
      "metadata": {
        "id": "o0BDJcNCPJSo"
      }
    },
    {
      "cell_type": "code",
      "source": [
        "file = open(\"inventory.txt\",\"w\")\n",
        "file.write(\"The product name is laptop\\n\")\n",
        "file.write(\"The product price is 100000\\n\")\n",
        "file.write(\"The product quantity is 10\\n\")\n",
        "file.write(\"The product category is IT\\n\")\n",
        "file.close()"
      ],
      "metadata": {
        "id": "Eb9ZOpBrPHuj"
      },
      "execution_count": null,
      "outputs": []
    },
    {
      "cell_type": "code",
      "source": [
        "#read_file_py.py file\n",
        "def read_file(file_path):\n",
        "    try:\n",
        "        with open(file_path, 'r') as file:\n",
        "            content = file.read()\n",
        "        return content\n",
        "    except FileNotFoundError:\n",
        "        return \"File not found.\""
      ],
      "metadata": {
        "id": "fWhzbgICKEEJ"
      },
      "execution_count": null,
      "outputs": []
    },
    {
      "cell_type": "code",
      "source": [
        "import read_file_py as read"
      ],
      "metadata": {
        "id": "JGSfVZDqQC9S"
      },
      "execution_count": null,
      "outputs": []
    },
    {
      "cell_type": "code",
      "source": [
        "read.read_file(\"inventory.txt\")"
      ],
      "metadata": {
        "colab": {
          "base_uri": "https://localhost:8080/",
          "height": 53
        },
        "id": "Ygbo1n0FQMDU",
        "outputId": "719ad5e0-d7b2-4a6b-8d4a-75232ecacbd8"
      },
      "execution_count": null,
      "outputs": [
        {
          "output_type": "execute_result",
          "data": {
            "text/plain": [
              "'The product name is laptop\\nThe product price is 100000\\nThe product quantity is 10\\nThe product category is IT\\n'"
            ],
            "application/vnd.google.colaboratory.intrinsic+json": {
              "type": "string"
            }
          },
          "metadata": {},
          "execution_count": 30
        }
      ]
    },
    {
      "cell_type": "markdown",
      "source": [
        "Ques 18"
      ],
      "metadata": {
        "id": "pBuzGCAISho_"
      }
    },
    {
      "cell_type": "code",
      "source": [
        "input_file = \"expenses.txt\"\n",
        "output_file = \"total_expenses.txt\"\n",
        "\n",
        "sample_expenses = [\n",
        "    15.50,\n",
        "    22.30,\n",
        "    10.00,\n",
        "    5.75\n",
        "]\n",
        "\n",
        "# Step 1: Create the expenses.txt file with sample data\n",
        "with open(input_file, \"w\", encoding=\"utf-8\") as file:\n",
        "    for expense in sample_expenses:\n",
        "        file.write(f\"{expense}\\n\")\n",
        "\n",
        "print(f\"File '{input_file}' has been created with sample expenses.\")\n",
        "\n",
        "# Initialize total amount\n",
        "total_amount = 0.0\n",
        "\n",
        "# Step 2: Read the expenses from the input file\n",
        "try:\n",
        "    with open(input_file, \"r\", encoding=\"utf-8\") as file:\n",
        "        for line in file:\n",
        "            # Assuming each line contains a numeric value (expense amount)\n",
        "            try:\n",
        "                amount = float(line.strip())\n",
        "                total_amount += amount\n",
        "            except ValueError:\n",
        "                print(f\"Warning: Skipping invalid amount '{line.strip()}'\")\n",
        "\n",
        "    # Step 3: Write the total amount to the output file\n",
        "    with open(output_file, \"w\", encoding=\"utf-8\") as file:\n",
        "        file.write(f\"Total Amount Spent: ₹{total_amount:.2f}\")\n",
        "\n",
        "    print(f\"Total amount spent: ₹{total_amount:.2f}\")\n",
        "    print(f\"The total has been written to '{output_file}'.\")\n",
        "\n",
        "except FileNotFoundError:\n",
        "    print(f\"The file '{input_file}' does not exist.\")"
      ],
      "metadata": {
        "colab": {
          "base_uri": "https://localhost:8080/"
        },
        "id": "jyoSdFa0H43o",
        "outputId": "4dd5ee47-a30b-4023-f92d-95ff6127656c"
      },
      "execution_count": null,
      "outputs": [
        {
          "output_type": "stream",
          "name": "stdout",
          "text": [
            "File 'expenses.txt' has been created with sample expenses.\n",
            "Total amount spent: ₹53.55\n",
            "The total has been written to 'total_expenses.txt'.\n"
          ]
        }
      ]
    },
    {
      "cell_type": "markdown",
      "source": [
        "Ques 19"
      ],
      "metadata": {
        "id": "bhDsf58qOqjU"
      }
    },
    {
      "cell_type": "code",
      "source": [
        "from collections import Counter\n",
        "import re\n",
        "\n",
        "# Define file names\n",
        "file_name = \"paragraph.txt\"\n",
        "\n",
        "# Sample content to be written to the file\n",
        "sample_text = \"\"\"This is a sample paragraph. It contains several words. Some words appear more than once.\n",
        "The purpose is to test word counting and sorting. Enjoy counting words.\"\"\"\n",
        "\n",
        "# Step 1: Create the paragraph.txt file with sample content\n",
        "with open(file_name, \"w\", encoding=\"utf-8\") as file:\n",
        "    file.write(sample_text)\n",
        "\n",
        "print(f\"File '{file_name}' has been created with sample content.\")\n",
        "\n",
        "# Initialize a Counter to hold word counts\n",
        "word_counter = Counter()\n",
        "\n",
        "# Step 2: Read the text file and process the words\n",
        "try:\n",
        "    with open(file_name, \"r\", encoding=\"utf-8\") as file:\n",
        "        for line in file:\n",
        "            # Use regular expressions to find all words (case-insensitive)\n",
        "            words = re.findall(r'\\b\\w+\\b', line.lower())\n",
        "            # Update the counter with the words from the line\n",
        "            word_counter.update(words)\n",
        "\n",
        "    # Step 3: Sort the words alphabetically and print the counts\n",
        "    for word in sorted(word_counter):\n",
        "        print(f\"{word}: {word_counter[word]}\")\n",
        "\n",
        "except FileNotFoundError:\n",
        "    print(f\"The file '{file_name}' does not exist.\")"
      ],
      "metadata": {
        "colab": {
          "base_uri": "https://localhost:8080/"
        },
        "id": "f6zPwXsnOsD0",
        "outputId": "f3728bc7-7068-41b9-d0d7-2c8f9a94f9e8"
      },
      "execution_count": null,
      "outputs": [
        {
          "output_type": "stream",
          "name": "stdout",
          "text": [
            "File 'paragraph.txt' has been created with sample content.\n",
            "a: 1\n",
            "and: 1\n",
            "appear: 1\n",
            "contains: 1\n",
            "counting: 2\n",
            "enjoy: 1\n",
            "is: 2\n",
            "it: 1\n",
            "more: 1\n",
            "once: 1\n",
            "paragraph: 1\n",
            "purpose: 1\n",
            "sample: 1\n",
            "several: 1\n",
            "some: 1\n",
            "sorting: 1\n",
            "test: 1\n",
            "than: 1\n",
            "the: 1\n",
            "this: 1\n",
            "to: 1\n",
            "word: 1\n",
            "words: 3\n"
          ]
        }
      ]
    },
    {
      "cell_type": "markdown",
      "source": [
        "Ques 24"
      ],
      "metadata": {
        "id": "3082SrRdvLHu"
      }
    },
    {
      "cell_type": "code",
      "source": [
        "data = {\"student\" :[1,2,3,4,5,6,7,8,9,10],\n",
        "            \"Accountancy\": [45,70,65,30,90,40,50,75,85,60],\n",
        "            \"Statistics\":[35,90,70,40,95,40,60,80,80,50]}"
      ],
      "metadata": {
        "id": "IADJhbA6vKWS"
      },
      "execution_count": null,
      "outputs": []
    },
    {
      "cell_type": "code",
      "source": [
        "data = pd.DataFrame(data)"
      ],
      "metadata": {
        "id": "txSG5TTOwDyt"
      },
      "execution_count": null,
      "outputs": []
    },
    {
      "cell_type": "code",
      "source": [
        "data"
      ],
      "metadata": {
        "colab": {
          "base_uri": "https://localhost:8080/",
          "height": 363
        },
        "id": "nDEW_g4kyEzw",
        "outputId": "3fdb657c-1896-4e27-8520-58bfaee7c2cb"
      },
      "execution_count": null,
      "outputs": [
        {
          "output_type": "execute_result",
          "data": {
            "text/plain": [
              "   student  Accountancy  Statistics\n",
              "0        1           45          35\n",
              "1        2           70          90\n",
              "2        3           65          70\n",
              "3        4           30          40\n",
              "4        5           90          95\n",
              "5        6           40          40\n",
              "6        7           50          60\n",
              "7        8           75          80\n",
              "8        9           85          80\n",
              "9       10           60          50"
            ],
            "text/html": [
              "\n",
              "  <div id=\"df-6bec1da8-2d2d-4ae7-af87-f3d64adfa53b\" class=\"colab-df-container\">\n",
              "    <div>\n",
              "<style scoped>\n",
              "    .dataframe tbody tr th:only-of-type {\n",
              "        vertical-align: middle;\n",
              "    }\n",
              "\n",
              "    .dataframe tbody tr th {\n",
              "        vertical-align: top;\n",
              "    }\n",
              "\n",
              "    .dataframe thead th {\n",
              "        text-align: right;\n",
              "    }\n",
              "</style>\n",
              "<table border=\"1\" class=\"dataframe\">\n",
              "  <thead>\n",
              "    <tr style=\"text-align: right;\">\n",
              "      <th></th>\n",
              "      <th>student</th>\n",
              "      <th>Accountancy</th>\n",
              "      <th>Statistics</th>\n",
              "    </tr>\n",
              "  </thead>\n",
              "  <tbody>\n",
              "    <tr>\n",
              "      <th>0</th>\n",
              "      <td>1</td>\n",
              "      <td>45</td>\n",
              "      <td>35</td>\n",
              "    </tr>\n",
              "    <tr>\n",
              "      <th>1</th>\n",
              "      <td>2</td>\n",
              "      <td>70</td>\n",
              "      <td>90</td>\n",
              "    </tr>\n",
              "    <tr>\n",
              "      <th>2</th>\n",
              "      <td>3</td>\n",
              "      <td>65</td>\n",
              "      <td>70</td>\n",
              "    </tr>\n",
              "    <tr>\n",
              "      <th>3</th>\n",
              "      <td>4</td>\n",
              "      <td>30</td>\n",
              "      <td>40</td>\n",
              "    </tr>\n",
              "    <tr>\n",
              "      <th>4</th>\n",
              "      <td>5</td>\n",
              "      <td>90</td>\n",
              "      <td>95</td>\n",
              "    </tr>\n",
              "    <tr>\n",
              "      <th>5</th>\n",
              "      <td>6</td>\n",
              "      <td>40</td>\n",
              "      <td>40</td>\n",
              "    </tr>\n",
              "    <tr>\n",
              "      <th>6</th>\n",
              "      <td>7</td>\n",
              "      <td>50</td>\n",
              "      <td>60</td>\n",
              "    </tr>\n",
              "    <tr>\n",
              "      <th>7</th>\n",
              "      <td>8</td>\n",
              "      <td>75</td>\n",
              "      <td>80</td>\n",
              "    </tr>\n",
              "    <tr>\n",
              "      <th>8</th>\n",
              "      <td>9</td>\n",
              "      <td>85</td>\n",
              "      <td>80</td>\n",
              "    </tr>\n",
              "    <tr>\n",
              "      <th>9</th>\n",
              "      <td>10</td>\n",
              "      <td>60</td>\n",
              "      <td>50</td>\n",
              "    </tr>\n",
              "  </tbody>\n",
              "</table>\n",
              "</div>\n",
              "    <div class=\"colab-df-buttons\">\n",
              "\n",
              "  <div class=\"colab-df-container\">\n",
              "    <button class=\"colab-df-convert\" onclick=\"convertToInteractive('df-6bec1da8-2d2d-4ae7-af87-f3d64adfa53b')\"\n",
              "            title=\"Convert this dataframe to an interactive table.\"\n",
              "            style=\"display:none;\">\n",
              "\n",
              "  <svg xmlns=\"http://www.w3.org/2000/svg\" height=\"24px\" viewBox=\"0 -960 960 960\">\n",
              "    <path d=\"M120-120v-720h720v720H120Zm60-500h600v-160H180v160Zm220 220h160v-160H400v160Zm0 220h160v-160H400v160ZM180-400h160v-160H180v160Zm440 0h160v-160H620v160ZM180-180h160v-160H180v160Zm440 0h160v-160H620v160Z\"/>\n",
              "  </svg>\n",
              "    </button>\n",
              "\n",
              "  <style>\n",
              "    .colab-df-container {\n",
              "      display:flex;\n",
              "      gap: 12px;\n",
              "    }\n",
              "\n",
              "    .colab-df-convert {\n",
              "      background-color: #E8F0FE;\n",
              "      border: none;\n",
              "      border-radius: 50%;\n",
              "      cursor: pointer;\n",
              "      display: none;\n",
              "      fill: #1967D2;\n",
              "      height: 32px;\n",
              "      padding: 0 0 0 0;\n",
              "      width: 32px;\n",
              "    }\n",
              "\n",
              "    .colab-df-convert:hover {\n",
              "      background-color: #E2EBFA;\n",
              "      box-shadow: 0px 1px 2px rgba(60, 64, 67, 0.3), 0px 1px 3px 1px rgba(60, 64, 67, 0.15);\n",
              "      fill: #174EA6;\n",
              "    }\n",
              "\n",
              "    .colab-df-buttons div {\n",
              "      margin-bottom: 4px;\n",
              "    }\n",
              "\n",
              "    [theme=dark] .colab-df-convert {\n",
              "      background-color: #3B4455;\n",
              "      fill: #D2E3FC;\n",
              "    }\n",
              "\n",
              "    [theme=dark] .colab-df-convert:hover {\n",
              "      background-color: #434B5C;\n",
              "      box-shadow: 0px 1px 3px 1px rgba(0, 0, 0, 0.15);\n",
              "      filter: drop-shadow(0px 1px 2px rgba(0, 0, 0, 0.3));\n",
              "      fill: #FFFFFF;\n",
              "    }\n",
              "  </style>\n",
              "\n",
              "    <script>\n",
              "      const buttonEl =\n",
              "        document.querySelector('#df-6bec1da8-2d2d-4ae7-af87-f3d64adfa53b button.colab-df-convert');\n",
              "      buttonEl.style.display =\n",
              "        google.colab.kernel.accessAllowed ? 'block' : 'none';\n",
              "\n",
              "      async function convertToInteractive(key) {\n",
              "        const element = document.querySelector('#df-6bec1da8-2d2d-4ae7-af87-f3d64adfa53b');\n",
              "        const dataTable =\n",
              "          await google.colab.kernel.invokeFunction('convertToInteractive',\n",
              "                                                    [key], {});\n",
              "        if (!dataTable) return;\n",
              "\n",
              "        const docLinkHtml = 'Like what you see? Visit the ' +\n",
              "          '<a target=\"_blank\" href=https://colab.research.google.com/notebooks/data_table.ipynb>data table notebook</a>'\n",
              "          + ' to learn more about interactive tables.';\n",
              "        element.innerHTML = '';\n",
              "        dataTable['output_type'] = 'display_data';\n",
              "        await google.colab.output.renderOutput(dataTable, element);\n",
              "        const docLink = document.createElement('div');\n",
              "        docLink.innerHTML = docLinkHtml;\n",
              "        element.appendChild(docLink);\n",
              "      }\n",
              "    </script>\n",
              "  </div>\n",
              "\n",
              "\n",
              "<div id=\"df-02968f4a-4311-48ec-ad16-2d98e4af2e8f\">\n",
              "  <button class=\"colab-df-quickchart\" onclick=\"quickchart('df-02968f4a-4311-48ec-ad16-2d98e4af2e8f')\"\n",
              "            title=\"Suggest charts\"\n",
              "            style=\"display:none;\">\n",
              "\n",
              "<svg xmlns=\"http://www.w3.org/2000/svg\" height=\"24px\"viewBox=\"0 0 24 24\"\n",
              "     width=\"24px\">\n",
              "    <g>\n",
              "        <path d=\"M19 3H5c-1.1 0-2 .9-2 2v14c0 1.1.9 2 2 2h14c1.1 0 2-.9 2-2V5c0-1.1-.9-2-2-2zM9 17H7v-7h2v7zm4 0h-2V7h2v10zm4 0h-2v-4h2v4z\"/>\n",
              "    </g>\n",
              "</svg>\n",
              "  </button>\n",
              "\n",
              "<style>\n",
              "  .colab-df-quickchart {\n",
              "      --bg-color: #E8F0FE;\n",
              "      --fill-color: #1967D2;\n",
              "      --hover-bg-color: #E2EBFA;\n",
              "      --hover-fill-color: #174EA6;\n",
              "      --disabled-fill-color: #AAA;\n",
              "      --disabled-bg-color: #DDD;\n",
              "  }\n",
              "\n",
              "  [theme=dark] .colab-df-quickchart {\n",
              "      --bg-color: #3B4455;\n",
              "      --fill-color: #D2E3FC;\n",
              "      --hover-bg-color: #434B5C;\n",
              "      --hover-fill-color: #FFFFFF;\n",
              "      --disabled-bg-color: #3B4455;\n",
              "      --disabled-fill-color: #666;\n",
              "  }\n",
              "\n",
              "  .colab-df-quickchart {\n",
              "    background-color: var(--bg-color);\n",
              "    border: none;\n",
              "    border-radius: 50%;\n",
              "    cursor: pointer;\n",
              "    display: none;\n",
              "    fill: var(--fill-color);\n",
              "    height: 32px;\n",
              "    padding: 0;\n",
              "    width: 32px;\n",
              "  }\n",
              "\n",
              "  .colab-df-quickchart:hover {\n",
              "    background-color: var(--hover-bg-color);\n",
              "    box-shadow: 0 1px 2px rgba(60, 64, 67, 0.3), 0 1px 3px 1px rgba(60, 64, 67, 0.15);\n",
              "    fill: var(--button-hover-fill-color);\n",
              "  }\n",
              "\n",
              "  .colab-df-quickchart-complete:disabled,\n",
              "  .colab-df-quickchart-complete:disabled:hover {\n",
              "    background-color: var(--disabled-bg-color);\n",
              "    fill: var(--disabled-fill-color);\n",
              "    box-shadow: none;\n",
              "  }\n",
              "\n",
              "  .colab-df-spinner {\n",
              "    border: 2px solid var(--fill-color);\n",
              "    border-color: transparent;\n",
              "    border-bottom-color: var(--fill-color);\n",
              "    animation:\n",
              "      spin 1s steps(1) infinite;\n",
              "  }\n",
              "\n",
              "  @keyframes spin {\n",
              "    0% {\n",
              "      border-color: transparent;\n",
              "      border-bottom-color: var(--fill-color);\n",
              "      border-left-color: var(--fill-color);\n",
              "    }\n",
              "    20% {\n",
              "      border-color: transparent;\n",
              "      border-left-color: var(--fill-color);\n",
              "      border-top-color: var(--fill-color);\n",
              "    }\n",
              "    30% {\n",
              "      border-color: transparent;\n",
              "      border-left-color: var(--fill-color);\n",
              "      border-top-color: var(--fill-color);\n",
              "      border-right-color: var(--fill-color);\n",
              "    }\n",
              "    40% {\n",
              "      border-color: transparent;\n",
              "      border-right-color: var(--fill-color);\n",
              "      border-top-color: var(--fill-color);\n",
              "    }\n",
              "    60% {\n",
              "      border-color: transparent;\n",
              "      border-right-color: var(--fill-color);\n",
              "    }\n",
              "    80% {\n",
              "      border-color: transparent;\n",
              "      border-right-color: var(--fill-color);\n",
              "      border-bottom-color: var(--fill-color);\n",
              "    }\n",
              "    90% {\n",
              "      border-color: transparent;\n",
              "      border-bottom-color: var(--fill-color);\n",
              "    }\n",
              "  }\n",
              "</style>\n",
              "\n",
              "  <script>\n",
              "    async function quickchart(key) {\n",
              "      const quickchartButtonEl =\n",
              "        document.querySelector('#' + key + ' button');\n",
              "      quickchartButtonEl.disabled = true;  // To prevent multiple clicks.\n",
              "      quickchartButtonEl.classList.add('colab-df-spinner');\n",
              "      try {\n",
              "        const charts = await google.colab.kernel.invokeFunction(\n",
              "            'suggestCharts', [key], {});\n",
              "      } catch (error) {\n",
              "        console.error('Error during call to suggestCharts:', error);\n",
              "      }\n",
              "      quickchartButtonEl.classList.remove('colab-df-spinner');\n",
              "      quickchartButtonEl.classList.add('colab-df-quickchart-complete');\n",
              "    }\n",
              "    (() => {\n",
              "      let quickchartButtonEl =\n",
              "        document.querySelector('#df-02968f4a-4311-48ec-ad16-2d98e4af2e8f button');\n",
              "      quickchartButtonEl.style.display =\n",
              "        google.colab.kernel.accessAllowed ? 'block' : 'none';\n",
              "    })();\n",
              "  </script>\n",
              "</div>\n",
              "\n",
              "  <div id=\"id_20db3fe7-7a5c-4306-9483-3f6c8994da04\">\n",
              "    <style>\n",
              "      .colab-df-generate {\n",
              "        background-color: #E8F0FE;\n",
              "        border: none;\n",
              "        border-radius: 50%;\n",
              "        cursor: pointer;\n",
              "        display: none;\n",
              "        fill: #1967D2;\n",
              "        height: 32px;\n",
              "        padding: 0 0 0 0;\n",
              "        width: 32px;\n",
              "      }\n",
              "\n",
              "      .colab-df-generate:hover {\n",
              "        background-color: #E2EBFA;\n",
              "        box-shadow: 0px 1px 2px rgba(60, 64, 67, 0.3), 0px 1px 3px 1px rgba(60, 64, 67, 0.15);\n",
              "        fill: #174EA6;\n",
              "      }\n",
              "\n",
              "      [theme=dark] .colab-df-generate {\n",
              "        background-color: #3B4455;\n",
              "        fill: #D2E3FC;\n",
              "      }\n",
              "\n",
              "      [theme=dark] .colab-df-generate:hover {\n",
              "        background-color: #434B5C;\n",
              "        box-shadow: 0px 1px 3px 1px rgba(0, 0, 0, 0.15);\n",
              "        filter: drop-shadow(0px 1px 2px rgba(0, 0, 0, 0.3));\n",
              "        fill: #FFFFFF;\n",
              "      }\n",
              "    </style>\n",
              "    <button class=\"colab-df-generate\" onclick=\"generateWithVariable('data')\"\n",
              "            title=\"Generate code using this dataframe.\"\n",
              "            style=\"display:none;\">\n",
              "\n",
              "  <svg xmlns=\"http://www.w3.org/2000/svg\" height=\"24px\"viewBox=\"0 0 24 24\"\n",
              "       width=\"24px\">\n",
              "    <path d=\"M7,19H8.4L18.45,9,17,7.55,7,17.6ZM5,21V16.75L18.45,3.32a2,2,0,0,1,2.83,0l1.4,1.43a1.91,1.91,0,0,1,.58,1.4,1.91,1.91,0,0,1-.58,1.4L9.25,21ZM18.45,9,17,7.55Zm-12,3A5.31,5.31,0,0,0,4.9,8.1,5.31,5.31,0,0,0,1,6.5,5.31,5.31,0,0,0,4.9,4.9,5.31,5.31,0,0,0,6.5,1,5.31,5.31,0,0,0,8.1,4.9,5.31,5.31,0,0,0,12,6.5,5.46,5.46,0,0,0,6.5,12Z\"/>\n",
              "  </svg>\n",
              "    </button>\n",
              "    <script>\n",
              "      (() => {\n",
              "      const buttonEl =\n",
              "        document.querySelector('#id_20db3fe7-7a5c-4306-9483-3f6c8994da04 button.colab-df-generate');\n",
              "      buttonEl.style.display =\n",
              "        google.colab.kernel.accessAllowed ? 'block' : 'none';\n",
              "\n",
              "      buttonEl.onclick = () => {\n",
              "        google.colab.notebook.generateWithVariable('data');\n",
              "      }\n",
              "      })();\n",
              "    </script>\n",
              "  </div>\n",
              "\n",
              "    </div>\n",
              "  </div>\n"
            ],
            "application/vnd.google.colaboratory.intrinsic+json": {
              "type": "dataframe",
              "variable_name": "data",
              "summary": "{\n  \"name\": \"data\",\n  \"rows\": 10,\n  \"fields\": [\n    {\n      \"column\": \"student\",\n      \"properties\": {\n        \"dtype\": \"number\",\n        \"std\": 3,\n        \"min\": 1,\n        \"max\": 10,\n        \"num_unique_values\": 10,\n        \"samples\": [\n          9,\n          2,\n          6\n        ],\n        \"semantic_type\": \"\",\n        \"description\": \"\"\n      }\n    },\n    {\n      \"column\": \"Accountancy\",\n      \"properties\": {\n        \"dtype\": \"number\",\n        \"std\": 19,\n        \"min\": 30,\n        \"max\": 90,\n        \"num_unique_values\": 10,\n        \"samples\": [\n          85,\n          70,\n          40\n        ],\n        \"semantic_type\": \"\",\n        \"description\": \"\"\n      }\n    },\n    {\n      \"column\": \"Statistics\",\n      \"properties\": {\n        \"dtype\": \"number\",\n        \"std\": 22,\n        \"min\": 35,\n        \"max\": 95,\n        \"num_unique_values\": 8,\n        \"samples\": [\n          90,\n          60,\n          35\n        ],\n        \"semantic_type\": \"\",\n        \"description\": \"\"\n      }\n    }\n  ]\n}"
            }
          },
          "metadata": {},
          "execution_count": 11
        }
      ]
    },
    {
      "cell_type": "code",
      "source": [
        "correlation = data[\"Accountancy\"].corr(data[\"Statistics\"])"
      ],
      "metadata": {
        "id": "NcwepmolzNB5"
      },
      "execution_count": null,
      "outputs": []
    },
    {
      "cell_type": "code",
      "source": [
        "correlation\n"
      ],
      "metadata": {
        "colab": {
          "base_uri": "https://localhost:8080/"
        },
        "id": "u2nDiKDVzYvF",
        "outputId": "ff00708d-6144-4598-ae27-134fbc589beb"
      },
      "execution_count": null,
      "outputs": [
        {
          "output_type": "execute_result",
          "data": {
            "text/plain": [
              "0.9031178882610624"
            ]
          },
          "metadata": {},
          "execution_count": 16
        }
      ]
    },
    {
      "cell_type": "markdown",
      "source": [
        "Ques 26"
      ],
      "metadata": {
        "id": "JNA4qsZI6Ruo"
      }
    },
    {
      "cell_type": "code",
      "source": [
        "correlation_cofficient = 0.8\n",
        "price_at_agra = 70\n",
        "price_at_delhi = correlation_cofficient * price_at_agra\n",
        "price_at_delhi"
      ],
      "metadata": {
        "colab": {
          "base_uri": "https://localhost:8080/"
        },
        "id": "2g5hv26f6ToR",
        "outputId": "9f58b3d1-f4ef-4690-857c-e84d18b21440"
      },
      "execution_count": null,
      "outputs": [
        {
          "output_type": "execute_result",
          "data": {
            "text/plain": [
              "56.0"
            ]
          },
          "metadata": {},
          "execution_count": 18
        }
      ]
    },
    {
      "cell_type": "markdown",
      "source": [
        "Ques 27"
      ],
      "metadata": {
        "id": "uRjp75A988MW"
      }
    },
    {
      "cell_type": "code",
      "source": [
        "variance_x = 9\n",
        "regression_eq1 = (8, -10, -66)\n",
        "regression_eq2 = (40, -18, 214)\n",
        "\n",
        "A = np.array([[regression_eq1[0], regression_eq1[1]], [regression_eq2[0], regression_eq2[1]]])\n",
        "B = np.array([-regression_eq1[2], -regression_eq2[2]])\n",
        "\n",
        "mean_values = np.linalg.solve(A, B)\n",
        "mean_x, mean_y = mean_values\n",
        "\n",
        "b_xy = regression_eq1[0] / -regression_eq1[1]\n",
        "b_yx = regression_eq2[0] / -regression_eq2[1]\n",
        "\n",
        "r = np.sqrt(b_xy * b_yx)\n",
        "\n",
        "variance_y = variance_x / (r ** 2)\n",
        "sigma_y = np.sqrt(variance_y)\n",
        "\n",
        "print(f\"Mean value of x: {mean_x}\")\n",
        "print(f\"Mean value of y: {mean_y}\")\n",
        "print(f\"Coefficient of correlation (r): {r}\")\n",
        "print(f\"Standard deviation of y (σ_y): {sigma_y}\")"
      ],
      "metadata": {
        "colab": {
          "base_uri": "https://localhost:8080/"
        },
        "id": "CaCos3GQ89ZP",
        "outputId": "c95a6abd-0dd8-432e-d6f5-cf27502d4495"
      },
      "execution_count": null,
      "outputs": [
        {
          "output_type": "stream",
          "name": "stdout",
          "text": [
            "Mean value of x: -13.0\n",
            "Mean value of y: -17.0\n",
            "Coefficient of correlation (r): 1.3333333333333335\n",
            "Standard deviation of y (σ_y): 2.25\n"
          ]
        }
      ]
    },
    {
      "cell_type": "markdown",
      "source": [
        "Ques 31"
      ],
      "metadata": {
        "id": "Q6qD_pkfGPue"
      }
    },
    {
      "cell_type": "code",
      "source": [
        "import scipy.stats as stats\n",
        "mean = 60\n",
        "std_dev = 10\n",
        "\n",
        "z1 = (72 - mean) / std_dev\n",
        "z2 = (50 - mean) / std_dev\n",
        "z3 = (72 - mean) / std_dev\n",
        "z4 = (70 - mean) / std_dev\n",
        "z5 = (80 - mean) / std_dev\n",
        "\n",
        "p1 = stats.norm.cdf(z1) - stats.norm.cdf(0)\n",
        "p2 = stats.norm.cdf(0) - stats.norm.cdf(z2)\n",
        "p3 = 1 - stats.norm.cdf(z3)\n",
        "p4 = stats.norm.cdf(z5) - stats.norm.cdf(z4)\n",
        "\n",
        "percent_p1 = p1 * 100\n",
        "percent_p2 = p2 * 100\n",
        "percent_p3 = p3 * 100\n",
        "percent_p4 = p4 * 100\n",
        "\n",
        "percent_p1, percent_p2, percent_p3, percent_p4"
      ],
      "metadata": {
        "colab": {
          "base_uri": "https://localhost:8080/"
        },
        "id": "qb3TE05LGE-4",
        "outputId": "fbfc481b-ec5a-4ca5-b1c8-c70797069ea0"
      },
      "execution_count": null,
      "outputs": [
        {
          "output_type": "execute_result",
          "data": {
            "text/plain": [
              "(38.49303297782918, 34.13447460685429, 11.506967022170823, 13.590512198327787)"
            ]
          },
          "metadata": {},
          "execution_count": 20
        }
      ]
    },
    {
      "cell_type": "markdown",
      "source": [
        "Ques 32"
      ],
      "metadata": {
        "id": "ogR4lPj4HG7O"
      }
    },
    {
      "cell_type": "code",
      "source": [
        "mean_marks = 49\n",
        "std_dev_marks = 6\n",
        "total_students = 15000\n",
        "\n",
        "z_55 = (55 - mean_marks) / std_dev_marks\n",
        "z_70 = (70 - mean_marks) / std_dev_marks\n",
        "\n",
        "p_55 = 1 - stats.norm.cdf(z_55)\n",
        "p_70 = 1 - stats.norm.cdf(z_70)\n",
        "\n",
        "students_more_than_55 = p_55 * total_students\n",
        "students_more_than_70 = p_70 * total_students\n",
        "\n",
        "students_more_than_55, students_more_than_70"
      ],
      "metadata": {
        "colab": {
          "base_uri": "https://localhost:8080/"
        },
        "id": "r3qH0NhhHISZ",
        "outputId": "90445350-bb35-46d5-bed5-36aaf881bc68"
      },
      "execution_count": null,
      "outputs": [
        {
          "output_type": "execute_result",
          "data": {
            "text/plain": [
              "(2379.8288089718562, 3.4894361855331013)"
            ]
          },
          "metadata": {},
          "execution_count": 22
        }
      ]
    },
    {
      "cell_type": "code",
      "source": [
        "Ques 33"
      ],
      "metadata": {
        "id": "FBn4gYMZHoY8"
      },
      "execution_count": null,
      "outputs": []
    },
    {
      "cell_type": "code",
      "source": [
        "mean_height = 65\n",
        "std_dev_height = 5\n",
        "total_students_height = 500\n",
        "\n",
        "z_60 = (60 - mean_height) / std_dev_height\n",
        "z_70 = (70 - mean_height) / std_dev_height\n",
        "\n",
        "p_greater_than_70 = 1 - stats.norm.cdf(z_70)\n",
        "p_between_60_and_70 = stats.norm.cdf(z_70) - stats.norm.cdf(z_60)\n",
        "\n",
        "students_greater_than_70 = p_greater_than_70 * total_students_height\n",
        "students_between_60_and_70 = p_between_60_and_70 * total_students_height\n",
        "\n",
        "students_greater_than_70, students_between_60_and_70"
      ],
      "metadata": {
        "colab": {
          "base_uri": "https://localhost:8080/"
        },
        "id": "sB5SAB2oHtpz",
        "outputId": "ee99e530-47b0-482b-883a-ede53eca2113"
      },
      "execution_count": null,
      "outputs": [
        {
          "output_type": "execute_result",
          "data": {
            "text/plain": [
              "(79.32762696572854, 341.3447460685429)"
            ]
          },
          "metadata": {},
          "execution_count": 23
        }
      ]
    },
    {
      "cell_type": "markdown",
      "source": [
        "Ques 35"
      ],
      "metadata": {
        "id": "582bYs3ANU_m"
      }
    },
    {
      "cell_type": "code",
      "source": [
        "import scipy.stats as stats\n",
        "n = 25\n",
        "s = 9.0\n",
        "sigma_0 = 10.5\n",
        "\n",
        "chi_square_stat = (n - 1) * (s ** 2) / (sigma_0 ** 2)\n",
        "\n",
        "df = n - 1\n",
        "\n",
        "p_value = 2 * min(stats.chi2.cdf(chi_square_stat, df), 1 - stats.chi2.cdf(chi_square_stat, df))\n",
        "\n",
        "print(f\"Chi-square statistic: {chi_square_stat:.4f}\")\n",
        "print(f\"Degrees of freedom: {df}\")\n",
        "print(f\"P-value: {p_value:.4f}\")"
      ],
      "metadata": {
        "colab": {
          "base_uri": "https://localhost:8080/"
        },
        "id": "8CpxE9hRNWHC",
        "outputId": "409be6e1-9bea-4d7f-c71c-ecfb06ce928f"
      },
      "execution_count": null,
      "outputs": [
        {
          "output_type": "stream",
          "name": "stdout",
          "text": [
            "Chi-square statistic: 17.6327\n",
            "Degrees of freedom: 24\n",
            "P-value: 0.3591\n"
          ]
        }
      ]
    },
    {
      "cell_type": "markdown",
      "source": [
        "Ques 37"
      ],
      "metadata": {
        "id": "rWTY1DMEN0Zr"
      }
    },
    {
      "cell_type": "code",
      "source": [
        "grades = ['A', 'B', 'C', 'D', 'E']\n",
        "observed_frequencies = [15, 17, 30, 22, 16]\n",
        "total_students = 100\n",
        "expected_frequency = total_students / len(grades)\n",
        "\n",
        "expected_frequencies = [expected_frequency] * len(grades)\n",
        "\n",
        "chi_square_stat, p_value = stats.chisquare(f_obs=observed_frequencies, f_exp=expected_frequencies)\n",
        "\n",
        "print(f\"Chi-square statistic: {chi_square_stat:.4f}\")\n",
        "print(f\"P-value: {p_value:.4f}\")"
      ],
      "metadata": {
        "colab": {
          "base_uri": "https://localhost:8080/"
        },
        "id": "HwglASvvN1p9",
        "outputId": "c5d43ade-7854-4035-f668-1f0dfe02bb5d"
      },
      "execution_count": null,
      "outputs": [
        {
          "output_type": "stream",
          "name": "stdout",
          "text": [
            "Chi-square statistic: 7.7000\n",
            "P-value: 0.1032\n"
          ]
        }
      ]
    },
    {
      "cell_type": "markdown",
      "source": [
        "Ques 38"
      ],
      "metadata": {
        "id": "HN4YfWccOHXt"
      }
    },
    {
      "cell_type": "code",
      "source": [
        "data = {\n",
        "    'Detergent A': [57, 49, 54],\n",
        "    'Detergent B': [55, 52, 46],\n",
        "    'Detergent C': [67, 68, 58]\n",
        "}\n",
        "\n",
        "df = pd.DataFrame(data, index=['Cold Water', 'Warm Water', 'Hot Water'])\n",
        "\n",
        "f_stat, p_value = stats.f_oneway(df['Detergent A'], df['Detergent B'], df['Detergent C'])\n",
        "\n",
        "print(f\"F-statistic: {f_stat:.4f}\")\n",
        "print(f\"P-value: {p_value:.4f}\")"
      ],
      "metadata": {
        "colab": {
          "base_uri": "https://localhost:8080/"
        },
        "id": "sEslZArROIrG",
        "outputId": "eefafa59-d20d-4266-948a-471f6e776aa8"
      },
      "execution_count": null,
      "outputs": [
        {
          "output_type": "stream",
          "name": "stdout",
          "text": [
            "F-statistic: 6.7438\n",
            "P-value: 0.0292\n"
          ]
        }
      ]
    },
    {
      "cell_type": "markdown",
      "source": [
        "Ques 39"
      ],
      "metadata": {
        "id": "k1TS65S5OaYg"
      }
    },
    {
      "cell_type": "code",
      "source": [
        "from flask import Flask\n",
        "\n",
        "app = Flask(__name__)\n",
        "\n",
        "@app.route('/')\n",
        "def home():\n",
        "    return \"Hello, World!\"\n",
        "\n",
        "if __name__ == '__main__':\n",
        "    app.run(debug=True)"
      ],
      "metadata": {
        "id": "Oj2CmqlgOtCM"
      },
      "execution_count": null,
      "outputs": []
    },
    {
      "cell_type": "markdown",
      "source": [
        "the ques related to sql an't run on colab something production environment related error generated so i put the code here and dont run the codes to protect from error"
      ],
      "metadata": {
        "id": "KtkXhF7hOwjG"
      }
    },
    {
      "cell_type": "markdown",
      "source": [
        "Ques 40"
      ],
      "metadata": {
        "id": "Nv-liVRyOuDm"
      }
    },
    {
      "cell_type": "code",
      "source": [
        "from flask import Flask, request, render_template\n",
        "\n",
        "app = Flask(__name__)\n",
        "\n",
        "@app.route('/', methods=['GET', 'POST'])\n",
        "def form():\n",
        "    if request.method == 'POST':\n",
        "        # Get form data\n",
        "        name = request.form.get('name')\n",
        "        email = request.form.get('email')\n",
        "        return f\"Received POST request with name={name} and email={email}\"\n",
        "    return '''\n",
        "        <form method=\"post\">\n",
        "            Name: <input type=\"text\" name=\"name\"><br>\n",
        "            Email: <input type=\"text\" name=\"email\"><br>\n",
        "            <input type=\"submit\" value=\"Submit\">\n",
        "        </form>\n",
        "    '''\n",
        "\n",
        "if __name__ == '__main__':\n",
        "    app.run(debug=True)"
      ],
      "metadata": {
        "id": "PK49cvykOvsP"
      },
      "execution_count": null,
      "outputs": []
    },
    {
      "cell_type": "markdown",
      "source": [
        "Ques 41"
      ],
      "metadata": {
        "id": "oxm85cXaPJCh"
      }
    },
    {
      "cell_type": "code",
      "source": [
        "from flask import Flask\n",
        "\n",
        "app = Flask(__name__)\n",
        "\n",
        "@app.route('/display/<parameter>')\n",
        "def display_parameter(parameter):\n",
        "    return f'<h1>You passed: {parameter}</h1>'\n",
        "\n",
        "if __name__ == '__main__':\n",
        "    app.run(debug=True)"
      ],
      "metadata": {
        "id": "jEoUY5DpPKBl"
      },
      "execution_count": null,
      "outputs": []
    },
    {
      "cell_type": "markdown",
      "source": [
        "Ques 42"
      ],
      "metadata": {
        "id": "2u9W0HwKPTwS"
      }
    },
    {
      "cell_type": "code",
      "source": [
        "from flask import Flask, render_template, redirect, url_for, flash, request\n",
        "from flask_login import LoginManager, UserMixin, login_user, login_required, logout_user, current_user\n",
        "from flask_wtf import FlaskForm\n",
        "from wtforms import StringField, PasswordField, SubmitField\n",
        "from wtforms.validators import DataRequired, Length\n",
        "from werkzeug.security import generate_password_hash, check_password_hash\n",
        "\n",
        "app = Flask(__name__)\n",
        "app.config['SECRET_KEY'] = 'your_secret_key'\n",
        "\n",
        "login_manager = LoginManager()\n",
        "login_manager.init_app(app)\n",
        "login_manager.login_view = 'login'\n",
        "\n",
        "users = {}\n",
        "\n",
        "class User(UserMixin):\n",
        "    def __init__(self, id, username, password_hash):\n",
        "        self.id = id\n",
        "        self.username = username\n",
        "        self.password_hash = password_hash\n",
        "\n",
        "@login_manager.user_loader\n",
        "def load_user(user_id):\n",
        "    return users.get(user_id)\n",
        "\n",
        "class RegistrationForm(FlaskForm):\n",
        "    username = StringField('Username', validators=[DataRequired(), Length(min=4, max=25)])\n",
        "    password = PasswordField('Password', validators=[DataRequired(), Length(min=6, max=25)])\n",
        "    submit = SubmitField('Register')\n",
        "\n",
        "class LoginForm(FlaskForm):\n",
        "    username = StringField('Username', validators=[DataRequired()])\n",
        "    password = PasswordField('Password', validators=[DataRequired()])\n",
        "    submit = SubmitField('Login')\n",
        "\n",
        "@app.route('/register', methods=['GET', 'POST'])\n",
        "def register():\n",
        "    form = RegistrationForm()\n",
        "    if form.validate_on_submit():\n",
        "        username = form.username.data\n",
        "        password = form.password.data\n",
        "        password_hash = generate_password_hash(password)\n",
        "        user_id = str(len(users) + 1)\n",
        "        users[user_id] = User(user_id, username, password_hash)\n",
        "        flash('Registration successful!', 'success')\n",
        "        return redirect(url_for('login'))\n",
        "    return render_template('register.html', form=form)\n",
        "\n",
        "@app.route('/login', methods=['GET', 'POST'])\n",
        "def login():\n",
        "    form = LoginForm()\n",
        "    if form.validate_on_submit():\n",
        "        username = form.username.data\n",
        "        password = form.password.data\n",
        "        user = next((u for u in users.values() if u.username == username), None)\n",
        "        if user and check_password_hash(user.password_hash, password):\n",
        "            login_user(user)\n",
        "            flash('Login successful!', 'success')\n",
        "            return redirect(url_for('dashboard'))\n",
        "        else:\n",
        "            flash('Invalid username or password', 'danger')\n",
        "    return render_template('login.html', form=form)\n",
        "\n",
        "@app.route('/dashboard')\n",
        "@login_required\n",
        "def dashboard():\n",
        "    return f'Hello, {current_user.username}! Welcome to your dashboard.'\n",
        "\n",
        "@app.route('/logout')\n",
        "@login_required\n",
        "def logout():\n",
        "    logout_user()\n",
        "    flash('You have been logged out.', 'success')\n",
        "    return redirect(url_for('login'))\n",
        "\n",
        "if __name__ == '__main__':\n",
        "    app.run(debug=True)"
      ],
      "metadata": {
        "id": "icl_VkttPU2j"
      },
      "execution_count": null,
      "outputs": []
    },
    {
      "cell_type": "markdown",
      "source": [
        "Ques 43"
      ],
      "metadata": {
        "id": "-YQMswJLPq51"
      }
    },
    {
      "cell_type": "code",
      "source": [
        "from flask import Flask\n",
        "from flask_sqlalchemy import SQLAlchemy\n",
        "\n",
        "app = Flask(__name__)\n",
        "app.config['SQLALCHEMY_DATABASE_URI'] = 'sqlite:///site.db'\n",
        "app.config['SQLALCHEMY_TRACK_MODIFICATIONS'] = False\n",
        "db = SQLAlchemy(app)\n",
        "\n",
        "class User(db.Model):\n",
        "    id = db.Column(db.Integer, primary_key=True)\n",
        "    username = db.Column(db.String(150), unique=True, nullable=False)\n",
        "    email = db.Column(db.String(120), unique=True, nullable=False)\n",
        "    password = db.Column(db.String(60), nullable=False)\n",
        "\n",
        "    def __repr__(self):\n",
        "        return f\"User('{self.username}', '{self.email}')\"\n",
        "\n",
        "@app.route('/')\n",
        "def home():\n",
        "    return \"Hello, Flask with SQLite and SQLAlchemy!\"\n",
        "\n",
        "if __name__ == '__main__':\n",
        "    app.run(debug=True)"
      ],
      "metadata": {
        "id": "-EgllpGoPsBs"
      },
      "execution_count": null,
      "outputs": []
    },
    {
      "cell_type": "markdown",
      "source": [
        "Ques 44"
      ],
      "metadata": {
        "id": "S1n4ZpPXPxEr"
      }
    },
    {
      "cell_type": "code",
      "source": [
        "from flask import Flask, jsonify, request\n",
        "\n",
        "app = Flask(__name__)\n",
        "\n",
        "# Sample data\n",
        "users = [\n",
        "    {\"id\": 1, \"name\": \"John Doe\", \"email\": \"john@example.com\"},\n",
        "    {\"id\": 2, \"name\": \"Jane Smith\", \"email\": \"jane@example.com\"},\n",
        "]\n",
        "\n",
        "@app.route('/api/users', methods=['GET'])\n",
        "def get_users():\n",
        "    return jsonify(users)\n",
        "\n",
        "@app.route('/api/users/<int:user_id>', methods=['GET'])\n",
        "def get_user(user_id):\n",
        "    user = next((user for user in users if user[\"id\"] == user_id), None)\n",
        "    if user:\n",
        "        return jsonify(user)\n",
        "    else:\n",
        "        return jsonify({\"error\": \"User not found\"}), 404\n",
        "\n",
        "@app.route('/api/users', methods=['POST'])\n",
        "def add_user():\n",
        "    new_user = request.get_json()\n",
        "    new_user['id'] = users[-1]['id'] + 1 if users else 1\n",
        "    users.append(new_user)\n",
        "    return jsonify(new_user), 201\n",
        "\n",
        "@app.route('/api/users/<int:user_id>', methods=['PUT'])\n",
        "def update_user(user_id):\n",
        "    user = next((user for user in users if user[\"id\"] == user_id), None)\n",
        "    if user:\n",
        "        data = request.get_json()\n",
        "        user.update(data)\n",
        "        return jsonify(user)\n",
        "    else:\n",
        "        return jsonify({\"error\": \"User not found\"}), 404\n",
        "\n",
        "@app.route('/api/users/<int:user_id>', methods=['DELETE'])\n",
        "def delete_user(user_id):\n",
        "    global users\n",
        "    users = [user for user in users if user[\"id\"] != user_id]\n",
        "    return jsonify({\"message\": \"User deleted\"}), 200\n",
        "\n",
        "if __name__ == '__main__':\n",
        "    app.run(debug=True)"
      ],
      "metadata": {
        "id": "NtAYp04mPyHG"
      },
      "execution_count": null,
      "outputs": []
    },
    {
      "cell_type": "markdown",
      "source": [
        "Ques 45"
      ],
      "metadata": {
        "id": "0U-yHHcqP3C7"
      }
    },
    {
      "cell_type": "code",
      "source": [
        "from flask import Flask, render_template, redirect, url_for, flash\n",
        "from flask_wtf import FlaskForm\n",
        "from wtforms import StringField, PasswordField, SubmitField\n",
        "from wtforms.validators import DataRequired, Length, Email, EqualTo\n",
        "\n",
        "app = Flask(__name__)\n",
        "app.config['SECRET_KEY'] = 'your_secret_key'\n",
        "\n",
        "class RegistrationForm(FlaskForm):\n",
        "    username = StringField('Username', validators=[DataRequired(), Length(min=2, max=20)])\n",
        "    email = StringField('Email', validators=[DataRequired(), Email()])\n",
        "    password = PasswordField('Password', validators=[DataRequired()])\n",
        "    confirm_password = PasswordField('Confirm Password', validators=[DataRequired(), EqualTo('password')])\n",
        "    submit = SubmitField('Sign Up')\n",
        "\n",
        "@app.route('/register', methods=['GET', 'POST'])\n",
        "def register():\n",
        "    form = RegistrationForm()\n",
        "    if form.validate_on_submit():\n",
        "        flash(f'Account created for {form.username.data}!', 'success')\n",
        "        return redirect(url_for('home'))\n",
        "    return render_template('register.html', form=form)\n",
        "\n",
        "@app.route('/')\n",
        "def home():\n",
        "    return \"Hello, Flask-WTF!\"\n",
        "\n",
        "if __name__ == '__main__':\n",
        "    app.run(debug=True)"
      ],
      "metadata": {
        "id": "mzalwCegP4Kj"
      },
      "execution_count": null,
      "outputs": []
    },
    {
      "cell_type": "code",
      "source": [
        "pip install pandas mysql-connector-python\n"
      ],
      "metadata": {
        "colab": {
          "base_uri": "https://localhost:8080/"
        },
        "id": "Xmn3idA81pyM",
        "outputId": "27e9ccfc-eeea-4eb0-d11d-28e731c2cd6c"
      },
      "execution_count": null,
      "outputs": [
        {
          "output_type": "stream",
          "name": "stdout",
          "text": [
            "Requirement already satisfied: pandas in /usr/local/lib/python3.10/dist-packages (2.1.4)\n",
            "Requirement already satisfied: mysql-connector-python in /usr/local/lib/python3.10/dist-packages (9.0.0)\n",
            "Requirement already satisfied: numpy<2,>=1.22.4 in /usr/local/lib/python3.10/dist-packages (from pandas) (1.26.4)\n",
            "Requirement already satisfied: python-dateutil>=2.8.2 in /usr/local/lib/python3.10/dist-packages (from pandas) (2.8.2)\n",
            "Requirement already satisfied: pytz>=2020.1 in /usr/local/lib/python3.10/dist-packages (from pandas) (2024.1)\n",
            "Requirement already satisfied: tzdata>=2022.1 in /usr/local/lib/python3.10/dist-packages (from pandas) (2024.1)\n",
            "Requirement already satisfied: six>=1.5 in /usr/local/lib/python3.10/dist-packages (from python-dateutil>=2.8.2->pandas) (1.16.0)\n"
          ]
        }
      ]
    }
  ]
}